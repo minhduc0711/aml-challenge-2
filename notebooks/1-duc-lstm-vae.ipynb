{
 "cells": [
  {
   "cell_type": "code",
   "execution_count": 36,
   "id": "62cbcfca-7a43-44ad-8a06-21af4fac662c",
   "metadata": {},
   "outputs": [
    {
     "name": "stdout",
     "output_type": "stream",
     "text": [
      "The autoreload extension is already loaded. To reload it, use:\n",
      "  %reload_ext autoreload\n"
     ]
    }
   ],
   "source": [
    "%load_ext autoreload\n",
    "%autoreload 2\n",
    "\n",
    "from src.models.vae import VAE\n",
    "from src.data.dataset import SliderDataset\n",
    "\n",
    "import pytorch_lightning as pl\n",
    "import torch\n",
    "import torch.nn as nn\n",
    "import torch.nn.functional as F"
   ]
  },
  {
   "cell_type": "code",
   "execution_count": 59,
   "id": "e4348b37-b54e-47ec-845b-9c45fbd548bb",
   "metadata": {},
   "outputs": [
    {
     "data": {
      "text/plain": [
       "tensor([4.2068, 2.6901, 0.7844, 6.8344])"
      ]
     },
     "execution_count": 59,
     "metadata": {},
     "output_type": "execute_result"
    }
   ],
   "source": [
    "n_mels = 128\n",
    "frames = 5\n",
    "n_fft = 1024\n",
    "hop_length = 512\n",
    "power = 2.0\n",
    "\n",
    "\n",
    "ds = SliderDataset(\"../data/raw/dev_data/dev_data/slider/test/\",\n",
    "                n_mels=n_mels,\n",
    "                frames=frames,\n",
    "                n_fft=n_fft,\n",
    "                hop_length=hop_length,\n",
    "                power=power,\n",
    "                # transform=ToTensor1ch(device=device),\n",
    "                # normalize=normalize,\n",
    ")\n",
    "\n",
    "input, target = ds[0]\n",
    "input.shape, target.shape\n",
    "input[0, :4]"
   ]
  },
  {
   "cell_type": "code",
   "execution_count": 4,
   "id": "996dafdc-e6b6-45da-bb8c-7cd33f423bc9",
   "metadata": {},
   "outputs": [
    {
     "data": {
      "text/plain": [
       "(torch.Size([32, 64]), torch.Size([32, 64]))"
      ]
     },
     "execution_count": 4,
     "metadata": {},
     "output_type": "execute_result"
    }
   ],
   "source": [
    "from src.models.lstm_vae import Encoder\n",
    "import torch\n",
    "\n",
    "model = Encoder(128, 200, 64)\n",
    "x = torch.randn(32, 313, 128)\n",
    "mu, logvar = model(x)\n",
    "mu.shape, logvar.shape"
   ]
  },
  {
   "cell_type": "code",
   "execution_count": 19,
   "id": "f03f5b03-9ab1-4636-bb2d-9d6a4f7bf13f",
   "metadata": {},
   "outputs": [
    {
     "data": {
      "text/plain": [
       "tensor(1.0213, grad_fn=<MeanBackward0>)"
      ]
     },
     "execution_count": 19,
     "metadata": {},
     "output_type": "execute_result"
    }
   ],
   "source": [
    "torch.mean((x - x_recon) ** 2)"
   ]
  },
  {
   "cell_type": "code",
   "execution_count": 21,
   "id": "41875d3b-787e-484e-a118-8b6db53e5bff",
   "metadata": {},
   "outputs": [],
   "source": [
    "import torch\n",
    "from src.models.lstm_vae import Decoder, LSTMVAE\n",
    "\n",
    "x = torch.randn(32, 500, 128)\n",
    "\n",
    "model = LSTMVAE(128, 200, 64)\n",
    "x_recon, (mu, logvar) = model(x)"
   ]
  },
  {
   "cell_type": "code",
   "execution_count": null,
   "id": "fb792e5d-7439-4dc3-8ad0-7603dcba350e",
   "metadata": {},
   "outputs": [
    {
     "name": "stderr",
     "output_type": "stream",
     "text": [
      "GPU available: False, used: False\n",
      "TPU available: False, using: 0 TPU cores\n",
      "IPU available: False, using: 0 IPUs\n",
      "HPU available: False, using: 0 HPUs\n",
      "Missing logger folder: /mnt/libraries/Codes/EURECOM/aml/2-anomaly-detection/notebooks/lightning_logs\n",
      "\n",
      "  | Name    | Type    | Params\n",
      "------------------------------------\n",
      "0 | encoder | Encoder | 289 K \n",
      "1 | decoder | Decoder | 140 K \n",
      "------------------------------------\n",
      "430 K     Trainable params\n",
      "0         Non-trainable params\n",
      "430 K     Total params\n",
      "1.721     Total estimated model params size (MB)\n"
     ]
    },
    {
     "name": "stdout",
     "output_type": "stream",
     "text": [
      "Epoch 27:  20%|██████████████▏                                                        | 3/15 [00:05<00:21,  1.81s/it, loss=1.77, v_num=0]"
     ]
    }
   ],
   "source": [
    "from src.models.lstm_vae  import LSTMVAE\n",
    "from src.data.data_module import SliderDataModule\n",
    "model = LSTMVAE(i_dim=128, h_dim=200, z_dim=64)\n",
    "dm = SliderDataModule(\n",
    "    data_dir=\"../data/raw\",\n",
    "    batch_size=128)\n",
    "trainer = pl.Trainer()\n",
    "trainer.fit(model, datamodule=dm)"
   ]
  },
  {
   "cell_type": "code",
   "execution_count": 54,
   "id": "9df653fc-4fe0-4886-8eaa-0ac956658b87",
   "metadata": {},
   "outputs": [
    {
     "data": {
      "text/plain": [
       "1896"
      ]
     },
     "execution_count": 54,
     "metadata": {},
     "output_type": "execute_result"
    }
   ],
   "source": [
    "len(dm.train_ds)"
   ]
  },
  {
   "cell_type": "code",
   "execution_count": null,
   "id": "fedfa5a1-e062-4b72-86ab-2238f49ad7f4",
   "metadata": {},
   "outputs": [],
   "source": []
  }
 ],
 "metadata": {
  "kernelspec": {
   "display_name": "Python [conda env:aml]",
   "language": "python",
   "name": "conda-env-aml-py"
  },
  "language_info": {
   "codemirror_mode": {
    "name": "ipython",
    "version": 3
   },
   "file_extension": ".py",
   "mimetype": "text/x-python",
   "name": "python",
   "nbconvert_exporter": "python",
   "pygments_lexer": "ipython3",
   "version": "3.7.13"
  }
 },
 "nbformat": 4,
 "nbformat_minor": 5
}
