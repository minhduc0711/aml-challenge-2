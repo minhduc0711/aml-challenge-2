{
 "cells": [
  {
   "cell_type": "code",
   "execution_count": 2,
   "id": "4bb73d00-0896-4091-af02-0a9f5a62d82b",
   "metadata": {},
   "outputs": [],
   "source": [
    "%load_ext autoreload\n",
    "%autoreload 2"
   ]
  },
  {
   "cell_type": "code",
   "execution_count": 3,
   "id": "3684f37b-2483-4aba-9cd7-64ff76a6cd74",
   "metadata": {},
   "outputs": [
    {
     "name": "stderr",
     "output_type": "stream",
     "text": [
      "/opt/conda/lib/python3.8/site-packages/torchvision/io/image.py:13: UserWarning: Failed to load image Python extension: /opt/conda/lib/python3.8/site-packages/torchvision/image.so: undefined symbol: _ZN5torch3jit17parseSchemaOrNameERKNSt7__cxx1112basic_stringIcSt11char_traitsIcESaIcEEE\n",
      "  warn(f\"Failed to load image Python extension: {e}\")\n"
     ]
    }
   ],
   "source": [
    "import pytorch_lightning as pl\n",
    "import torch\n",
    "import torch.nn as nn\n",
    "import torch.nn.functional as F"
   ]
  },
  {
   "cell_type": "code",
   "execution_count": 4,
   "id": "627081f6-b064-49f3-8dd8-9465ae75bbc5",
   "metadata": {},
   "outputs": [],
   "source": [
    "def VAE_loss_function(recon_x, x, mu, logvar, reconst_loss='mse', a_RECONST=1., a_KLD=1., x_dim=640):\n",
    "    \"\"\"Loss function for VAE which consists of reconstruction and KL divergence losses.\n",
    "    Thanks to https://github.com/pytorch/examples/blob/master/vae/main.py\n",
    "\n",
    "    You can also balance weights for each loss, just to see what if KLD loss is stronger, etc.\n",
    "\n",
    "    Args:\n",
    "        reconst_loss: Reconstruction loss calculation: 'mse' or 'bce'\n",
    "        a_RECONST: Weight for reconstruction loss.\n",
    "        a_KLD: Weight for KLD loss.\n",
    "    \"\"\"\n",
    "\n",
    "    func = (F.mse_loss if reconst_loss == 'mse'\n",
    "            else F.binary_cross_entropy if reconst_loss == 'bce'\n",
    "            else 'Unknown reconst_loss')\n",
    "    RECONST = func(recon_x, x.view(-1, x_dim), reduction='sum')\n",
    "\n",
    "    # see Appendix B from VAE paper:\n",
    "    # Kingma and Welling. Auto-Encoding Variational Bayes. ICLR, 2014\n",
    "    # https://arxiv.org/abs/1312.6114\n",
    "    # 0.5 * sum(1 + log(sigma^2) - mu^2 - sigma^2)\n",
    "    KLD = -0.5 * torch.sum(1 + logvar - mu.pow(2) - logvar.exp())\n",
    "\n",
    "    return RECONST*a_RECONST + KLD*a_KLD\n",
    "\n",
    "class DenseVAE(pl.LightningModule):\n",
    "    def __init__(self, x_dim, z_dim, h_dim):\n",
    "        super().__init__()\n",
    "            \n",
    "        self.encoder = nn.Sequential(\n",
    "            nn.Linear(x_dim, h_dim),\n",
    "            nn.ReLU(),\n",
    "            nn.Linear(h_dim, h_dim),\n",
    "            nn.ReLU(),\n",
    "        ) \n",
    "        self.fc_mu = nn.Linear(h_dim, z_dim)\n",
    "        self.fc_logvar = nn.Linear(h_dim, z_dim)\n",
    "        self.decoder = nn.Sequential (\n",
    "            nn.Linear(z_dim, h_dim),\n",
    "            nn.ReLU(),\n",
    "            nn.Linear(h_dim, h_dim),\n",
    "            nn.ReLU(),\n",
    "            nn.Linear(h_dim, x_dim),\n",
    "            nn.Sigmoid()\n",
    "        )\n",
    "        self.loss_fn = nn.MSELoss(reduction='sum')\n",
    "        \n",
    "    def forward(self, x):\n",
    "        z_pre = self.encoder(x)\n",
    "        \n",
    "        mu = self.fc_mu(z_pre)\n",
    "        logvar = self.fc_logvar(z_pre)\n",
    "        std = torch.exp(0.5*logvar)\n",
    "        eps = torch.randn_like(std)\n",
    "        z = mu + eps * std\n",
    "        \n",
    "        x_hat = self.decoder(z)\n",
    "        return x_hat, z, mu, logvar\n",
    "    \n",
    "    \n",
    "    def training_step(self, batch, batch_idx):\n",
    "        x = batch[\"input\"]\n",
    "        x_recon, z, mu, logvar = self(x)\n",
    "        loss = VAE_loss_function(recon_x=x_recon, x=x, mu=mu, logvar=logvar,\n",
    "                                 reconst_loss='mse',\n",
    "                                 a_RECONST=1.,\n",
    "                                 a_KLD=.01)\n",
    "        self.log(\"train/loss\", loss)\n",
    "        return loss\n",
    "    \n",
    "    def validation_step(self, batch, batch_idx):\n",
    "        x = batch[\"input\"]\n",
    "        x_recon, z, mu, logvar = self(x)\n",
    "        \n",
    "        loss = self.loss_fn(x, x_recon)\n",
    "        self.log(\"val/loss\", loss)\n",
    "\n",
    "    def configure_optimizers(self):\n",
    "        opt = torch.optim.Adam(self.parameters(), lr=1e-3)\n",
    "        return opt\n",
    "\n",
    "class DenseAE(pl.LightningModule):\n",
    "    def __init__(self, x_dim, z_dim, h_dim):\n",
    "        super().__init__()\n",
    "            \n",
    "        self.encoder = nn.Sequential(\n",
    "            nn.Linear(x_dim, h_dim),\n",
    "            nn.ReLU(),\n",
    "            nn.Linear(h_dim, h_dim),\n",
    "            nn.ReLU(),\n",
    "            nn.Linear(h_dim, z_dim),\n",
    "            nn.ReLU(),\n",
    "        ) \n",
    "        self.decoder = nn.Sequential(\n",
    "            nn.Linear(z_dim, h_dim),\n",
    "            nn.ReLU(),\n",
    "            nn.Linear(h_dim, h_dim),\n",
    "            nn.ReLU(),\n",
    "            nn.Linear(h_dim, x_dim)\n",
    "        )\n",
    "        self.loss_fn = nn.MSELoss(reduction='sum')\n",
    "        \n",
    "    def forward(self, x):\n",
    "        z = self.encoder(x)\n",
    "        x_hat = self.decoder(z)\n",
    "        return x_hat, z\n",
    "    \n",
    "    \n",
    "    def training_step(self, batch, batch_idx):\n",
    "        x = batch[\"input\"]\n",
    "        x_recon, _ = self(x)\n",
    "        \n",
    "        loss = self.loss_fn(x, x_recon)\n",
    "        self.log(\"train/loss\", loss)\n",
    "        return loss\n",
    "    \n",
    "    def validation_step(self, batch, batch_idx):\n",
    "        x = batch[\"input\"]\n",
    "        x_recon, _ = self(x)\n",
    "        \n",
    "        loss = self.loss_fn(x, x_recon)\n",
    "        self.log(\"val/loss\", loss)\n",
    "\n",
    "    def configure_optimizers(self):\n",
    "        opt = torch.optim.Adam(self.parameters(), lr=5e-4)\n",
    "        return opt"
   ]
  },
  {
   "cell_type": "code",
   "execution_count": 6,
   "id": "b1bf3d53-59d3-4e45-831f-41fdd9304c40",
   "metadata": {},
   "outputs": [
    {
     "data": {
      "application/vnd.jupyter.widget-view+json": {
       "model_id": "f175bdf3a01d484992d591e49e7bdec4",
       "version_major": 2,
       "version_minor": 0
      },
      "text/plain": [
       "Building index for spectrogram columns:   0%|          | 0/968 [00:00<?, ?it/s]"
      ]
     },
     "metadata": {},
     "output_type": "display_data"
    },
    {
     "data": {
      "application/vnd.jupyter.widget-view+json": {
       "model_id": "ba0b5c377d704e3da16dc6560d83dbe4",
       "version_major": 2,
       "version_minor": 0
      },
      "text/plain": [
       "Building index for spectrogram columns:   0%|          | 0/456 [00:00<?, ?it/s]"
      ]
     },
     "metadata": {},
     "output_type": "display_data"
    },
    {
     "name": "stderr",
     "output_type": "stream",
     "text": [
      "GPU available: True, used: True\n",
      "TPU available: False, using: 0 TPU cores\n",
      "IPU available: False, using: 0 IPUs\n",
      "HPU available: False, using: 0 HPUs\n",
      "LOCAL_RANK: 0 - CUDA_VISIBLE_DEVICES: [0]\n",
      "\n",
      "  | Name      | Type       | Params\n",
      "-----------------------------------------\n",
      "0 | encoder   | Sequential | 416 K \n",
      "1 | fc_mu     | Linear     | 8.0 K \n",
      "2 | fc_logvar | Linear     | 8.0 K \n",
      "3 | decoder   | Sequential | 425 K \n",
      "4 | loss_fn   | MSELoss    | 0     \n",
      "-----------------------------------------\n",
      "858 K     Trainable params\n",
      "0         Non-trainable params\n",
      "858 K     Total params\n",
      "3.433     Total estimated model params size (MB)\n"
     ]
    },
    {
     "data": {
      "application/vnd.jupyter.widget-view+json": {
       "model_id": "",
       "version_major": 2,
       "version_minor": 0
      },
      "text/plain": [
       "Sanity Checking: 0it [00:00, ?it/s]"
      ]
     },
     "metadata": {},
     "output_type": "display_data"
    },
    {
     "data": {
      "application/vnd.jupyter.widget-view+json": {
       "model_id": "ad8d09af38d248d7b2266621fe7e6636",
       "version_major": 2,
       "version_minor": 0
      },
      "text/plain": [
       "Training: 0it [00:00, ?it/s]"
      ]
     },
     "metadata": {},
     "output_type": "display_data"
    },
    {
     "data": {
      "application/vnd.jupyter.widget-view+json": {
       "model_id": "",
       "version_major": 2,
       "version_minor": 0
      },
      "text/plain": [
       "Validation: 0it [00:00, ?it/s]"
      ]
     },
     "metadata": {},
     "output_type": "display_data"
    },
    {
     "data": {
      "application/vnd.jupyter.widget-view+json": {
       "model_id": "",
       "version_major": 2,
       "version_minor": 0
      },
      "text/plain": [
       "Validation: 0it [00:00, ?it/s]"
      ]
     },
     "metadata": {},
     "output_type": "display_data"
    },
    {
     "data": {
      "application/vnd.jupyter.widget-view+json": {
       "model_id": "",
       "version_major": 2,
       "version_minor": 0
      },
      "text/plain": [
       "Validation: 0it [00:00, ?it/s]"
      ]
     },
     "metadata": {},
     "output_type": "display_data"
    },
    {
     "data": {
      "application/vnd.jupyter.widget-view+json": {
       "model_id": "",
       "version_major": 2,
       "version_minor": 0
      },
      "text/plain": [
       "Validation: 0it [00:00, ?it/s]"
      ]
     },
     "metadata": {},
     "output_type": "display_data"
    },
    {
     "data": {
      "application/vnd.jupyter.widget-view+json": {
       "model_id": "",
       "version_major": 2,
       "version_minor": 0
      },
      "text/plain": [
       "Validation: 0it [00:00, ?it/s]"
      ]
     },
     "metadata": {},
     "output_type": "display_data"
    },
    {
     "data": {
      "application/vnd.jupyter.widget-view+json": {
       "model_id": "",
       "version_major": 2,
       "version_minor": 0
      },
      "text/plain": [
       "Validation: 0it [00:00, ?it/s]"
      ]
     },
     "metadata": {},
     "output_type": "display_data"
    },
    {
     "data": {
      "application/vnd.jupyter.widget-view+json": {
       "model_id": "",
       "version_major": 2,
       "version_minor": 0
      },
      "text/plain": [
       "Validation: 0it [00:00, ?it/s]"
      ]
     },
     "metadata": {},
     "output_type": "display_data"
    },
    {
     "data": {
      "application/vnd.jupyter.widget-view+json": {
       "model_id": "",
       "version_major": 2,
       "version_minor": 0
      },
      "text/plain": [
       "Validation: 0it [00:00, ?it/s]"
      ]
     },
     "metadata": {},
     "output_type": "display_data"
    },
    {
     "data": {
      "application/vnd.jupyter.widget-view+json": {
       "model_id": "",
       "version_major": 2,
       "version_minor": 0
      },
      "text/plain": [
       "Validation: 0it [00:00, ?it/s]"
      ]
     },
     "metadata": {},
     "output_type": "display_data"
    },
    {
     "data": {
      "application/vnd.jupyter.widget-view+json": {
       "model_id": "",
       "version_major": 2,
       "version_minor": 0
      },
      "text/plain": [
       "Validation: 0it [00:00, ?it/s]"
      ]
     },
     "metadata": {},
     "output_type": "display_data"
    },
    {
     "data": {
      "application/vnd.jupyter.widget-view+json": {
       "model_id": "",
       "version_major": 2,
       "version_minor": 0
      },
      "text/plain": [
       "Validation: 0it [00:00, ?it/s]"
      ]
     },
     "metadata": {},
     "output_type": "display_data"
    },
    {
     "data": {
      "application/vnd.jupyter.widget-view+json": {
       "model_id": "",
       "version_major": 2,
       "version_minor": 0
      },
      "text/plain": [
       "Validation: 0it [00:00, ?it/s]"
      ]
     },
     "metadata": {},
     "output_type": "display_data"
    },
    {
     "data": {
      "application/vnd.jupyter.widget-view+json": {
       "model_id": "",
       "version_major": 2,
       "version_minor": 0
      },
      "text/plain": [
       "Validation: 0it [00:00, ?it/s]"
      ]
     },
     "metadata": {},
     "output_type": "display_data"
    },
    {
     "data": {
      "application/vnd.jupyter.widget-view+json": {
       "model_id": "",
       "version_major": 2,
       "version_minor": 0
      },
      "text/plain": [
       "Validation: 0it [00:00, ?it/s]"
      ]
     },
     "metadata": {},
     "output_type": "display_data"
    },
    {
     "data": {
      "application/vnd.jupyter.widget-view+json": {
       "model_id": "",
       "version_major": 2,
       "version_minor": 0
      },
      "text/plain": [
       "Validation: 0it [00:00, ?it/s]"
      ]
     },
     "metadata": {},
     "output_type": "display_data"
    },
    {
     "data": {
      "application/vnd.jupyter.widget-view+json": {
       "model_id": "",
       "version_major": 2,
       "version_minor": 0
      },
      "text/plain": [
       "Validation: 0it [00:00, ?it/s]"
      ]
     },
     "metadata": {},
     "output_type": "display_data"
    },
    {
     "data": {
      "application/vnd.jupyter.widget-view+json": {
       "model_id": "",
       "version_major": 2,
       "version_minor": 0
      },
      "text/plain": [
       "Validation: 0it [00:00, ?it/s]"
      ]
     },
     "metadata": {},
     "output_type": "display_data"
    },
    {
     "data": {
      "application/vnd.jupyter.widget-view+json": {
       "model_id": "",
       "version_major": 2,
       "version_minor": 0
      },
      "text/plain": [
       "Validation: 0it [00:00, ?it/s]"
      ]
     },
     "metadata": {},
     "output_type": "display_data"
    },
    {
     "data": {
      "application/vnd.jupyter.widget-view+json": {
       "model_id": "",
       "version_major": 2,
       "version_minor": 0
      },
      "text/plain": [
       "Validation: 0it [00:00, ?it/s]"
      ]
     },
     "metadata": {},
     "output_type": "display_data"
    },
    {
     "data": {
      "application/vnd.jupyter.widget-view+json": {
       "model_id": "",
       "version_major": 2,
       "version_minor": 0
      },
      "text/plain": [
       "Validation: 0it [00:00, ?it/s]"
      ]
     },
     "metadata": {},
     "output_type": "display_data"
    }
   ],
   "source": [
    "from src.data.data_module import SliderDataModule\n",
    "\n",
    "dm = SliderDataModule(\n",
    "    data_dir=\"../data/raw\",\n",
    "    batch_size=256,\n",
    "    num_workers=8,\n",
    "    normalize=True,\n",
    "    maxlen=312,\n",
    "    use_cnn=False,\n",
    "    iter_over_cols=True\n",
    ")\n",
    "dm.setup_subset(\"dev\", \"00\")\n",
    "model = DenseVAE(x_dim=640, h_dim=400, z_dim=20)\n",
    "early_stopping = pl.callbacks.EarlyStopping('val/loss', patience=20, min_delta=0.5)\n",
    "callbacks = [early_stopping]\n",
    "logger = pl.loggers.TensorBoardLogger(\"lightning_logs/\", name=\"DenseVAE\", sub_dir=None, version=0)\n",
    "trainer = pl.Trainer(accelerator=\"gpu\", devices=1,\n",
    "                    callbacks=callbacks, max_epochs=20,\n",
    "                    log_every_n_steps=1,\n",
    "                    logger=logger)\n",
    "trainer.fit(model, datamodule=dm)"
   ]
  },
  {
   "cell_type": "code",
   "execution_count": 8,
   "id": "2b2bb415-2bb9-4880-a9c1-8c3966500647",
   "metadata": {},
   "outputs": [
    {
     "name": "stdout",
     "output_type": "stream",
     "text": [
      "Reconstruction on test set for machine 00\n"
     ]
    },
    {
     "data": {
      "application/vnd.jupyter.widget-view+json": {
       "model_id": "74991192e9ad4408ab80889d67d974ae",
       "version_major": 2,
       "version_minor": 0
      },
      "text/plain": [
       "  0%|          | 0/551 [00:00<?, ?it/s]"
      ]
     },
     "metadata": {},
     "output_type": "display_data"
    },
    {
     "data": {
      "text/plain": [
       "(0.8623470657260006, 0.6696783198995611)"
      ]
     },
     "execution_count": 8,
     "metadata": {},
     "output_type": "execute_result"
    }
   ],
   "source": [
    "from tqdm.notebook import tqdm\n",
    "import numpy as np\n",
    "from sklearn.metrics import roc_auc_score\n",
    "y_pred = []\n",
    "y_test = []\n",
    "mse = nn.MSELoss(reduction=\"none\")\n",
    "for machine_id in [\"00\"]:#dm.machine_ids[\"dev\"][:1]:\n",
    "    print(f\"Reconstruction on test set for machine {machine_id}\")\n",
    "    # model = models[f\"dev_{machine_id}\"]\n",
    "    model = model.cuda().eval()\n",
    "    # dm.setup_subset(\"dev\", machine_id)\n",
    "    \n",
    "    for batch in tqdm(dm.test_dataloader()):\n",
    "        x_test = batch['input'].cuda()\n",
    "        labels = np.array(batch['label'])\n",
    "        y_test.append(np.where(labels == \"anomaly\", 1, 0))\n",
    "        with torch.no_grad():\n",
    "            x_recon, _, _, _ = model(x_test)\n",
    "            y_pred.append(mse(x_recon, x_test).mean(dim=1))\n",
    "            \n",
    "y_pred = torch.cat(y_pred).cpu().numpy()\n",
    "y_test = np.concatenate(y_test)\n",
    "roc_auc_score(y_test, y_pred), roc_auc_score(y_test, y_pred, max_fpr=0.1)\n"
   ]
  },
  {
   "cell_type": "code",
   "execution_count": 10,
   "id": "fe9d6ad6-5b6b-4609-b10d-b3a3a40d9281",
   "metadata": {},
   "outputs": [
    {
     "data": {
      "text/plain": [
       "torch.Size([256, 128])"
      ]
     },
     "execution_count": 10,
     "metadata": {},
     "output_type": "execute_result"
    }
   ],
   "source": [
    "mse(x_recon, x_test).shape"
   ]
  }
 ],
 "metadata": {
  "kernelspec": {
   "display_name": "Python 3 (ipykernel)",
   "language": "python",
   "name": "python3"
  },
  "language_info": {
   "codemirror_mode": {
    "name": "ipython",
    "version": 3
   },
   "file_extension": ".py",
   "mimetype": "text/x-python",
   "name": "python",
   "nbconvert_exporter": "python",
   "pygments_lexer": "ipython3",
   "version": "3.8.12"
  }
 },
 "nbformat": 4,
 "nbformat_minor": 5
}
