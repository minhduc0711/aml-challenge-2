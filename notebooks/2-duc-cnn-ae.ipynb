{
 "cells": [
  {
   "cell_type": "code",
   "execution_count": 8,
   "id": "e0ce0918-39b6-48f0-b765-6f9b63fba7ab",
   "metadata": {},
   "outputs": [
    {
     "name": "stdout",
     "output_type": "stream",
     "text": [
      "The autoreload extension is already loaded. To reload it, use:\n",
      "  %reload_ext autoreload\n"
     ]
    }
   ],
   "source": [
    "%load_ext autoreload\n",
    "%autoreload 2"
   ]
  },
  {
   "cell_type": "code",
   "execution_count": 11,
   "id": "7f9c2e11-4368-4fd3-b135-20ef2c633fd2",
   "metadata": {},
   "outputs": [
    {
     "name": "stderr",
     "output_type": "stream",
     "text": [
      "GPU available: True, used: True\n",
      "TPU available: False, using: 0 TPU cores\n",
      "IPU available: False, using: 0 IPUs\n",
      "HPU available: False, using: 0 HPUs\n",
      "LOCAL_RANK: 0 - CUDA_VISIBLE_DEVICES: [0]\n",
      "\n",
      "  | Name    | Type    | Params\n",
      "------------------------------------\n",
      "0 | encoder | Encoder | 3.0 M \n",
      "1 | decoder | Decoder | 3.0 M \n",
      "2 | loss_fn | MSELoss | 0     \n",
      "------------------------------------\n",
      "6.1 M     Trainable params\n",
      "0         Non-trainable params\n",
      "6.1 M     Total params\n",
      "24.390    Total estimated model params size (MB)\n"
     ]
    },
    {
     "data": {
      "application/vnd.jupyter.widget-view+json": {
       "model_id": "",
       "version_major": 2,
       "version_minor": 0
      },
      "text/plain": [
       "Sanity Checking: 0it [00:00, ?it/s]"
      ]
     },
     "metadata": {},
     "output_type": "display_data"
    },
    {
     "data": {
      "application/vnd.jupyter.widget-view+json": {
       "model_id": "cede0e5e94f04449a71ee790973a84bd",
       "version_major": 2,
       "version_minor": 0
      },
      "text/plain": [
       "Training: 0it [00:00, ?it/s]"
      ]
     },
     "metadata": {},
     "output_type": "display_data"
    },
    {
     "data": {
      "application/vnd.jupyter.widget-view+json": {
       "model_id": "",
       "version_major": 2,
       "version_minor": 0
      },
      "text/plain": [
       "Validation: 0it [00:00, ?it/s]"
      ]
     },
     "metadata": {},
     "output_type": "display_data"
    },
    {
     "data": {
      "application/vnd.jupyter.widget-view+json": {
       "model_id": "",
       "version_major": 2,
       "version_minor": 0
      },
      "text/plain": [
       "Validation: 0it [00:00, ?it/s]"
      ]
     },
     "metadata": {},
     "output_type": "display_data"
    },
    {
     "data": {
      "application/vnd.jupyter.widget-view+json": {
       "model_id": "",
       "version_major": 2,
       "version_minor": 0
      },
      "text/plain": [
       "Validation: 0it [00:00, ?it/s]"
      ]
     },
     "metadata": {},
     "output_type": "display_data"
    },
    {
     "data": {
      "application/vnd.jupyter.widget-view+json": {
       "model_id": "",
       "version_major": 2,
       "version_minor": 0
      },
      "text/plain": [
       "Validation: 0it [00:00, ?it/s]"
      ]
     },
     "metadata": {},
     "output_type": "display_data"
    },
    {
     "data": {
      "application/vnd.jupyter.widget-view+json": {
       "model_id": "",
       "version_major": 2,
       "version_minor": 0
      },
      "text/plain": [
       "Validation: 0it [00:00, ?it/s]"
      ]
     },
     "metadata": {},
     "output_type": "display_data"
    },
    {
     "data": {
      "application/vnd.jupyter.widget-view+json": {
       "model_id": "",
       "version_major": 2,
       "version_minor": 0
      },
      "text/plain": [
       "Validation: 0it [00:00, ?it/s]"
      ]
     },
     "metadata": {},
     "output_type": "display_data"
    },
    {
     "data": {
      "application/vnd.jupyter.widget-view+json": {
       "model_id": "",
       "version_major": 2,
       "version_minor": 0
      },
      "text/plain": [
       "Validation: 0it [00:00, ?it/s]"
      ]
     },
     "metadata": {},
     "output_type": "display_data"
    },
    {
     "data": {
      "application/vnd.jupyter.widget-view+json": {
       "model_id": "",
       "version_major": 2,
       "version_minor": 0
      },
      "text/plain": [
       "Validation: 0it [00:00, ?it/s]"
      ]
     },
     "metadata": {},
     "output_type": "display_data"
    },
    {
     "data": {
      "application/vnd.jupyter.widget-view+json": {
       "model_id": "",
       "version_major": 2,
       "version_minor": 0
      },
      "text/plain": [
       "Validation: 0it [00:00, ?it/s]"
      ]
     },
     "metadata": {},
     "output_type": "display_data"
    },
    {
     "data": {
      "application/vnd.jupyter.widget-view+json": {
       "model_id": "",
       "version_major": 2,
       "version_minor": 0
      },
      "text/plain": [
       "Validation: 0it [00:00, ?it/s]"
      ]
     },
     "metadata": {},
     "output_type": "display_data"
    },
    {
     "data": {
      "application/vnd.jupyter.widget-view+json": {
       "model_id": "",
       "version_major": 2,
       "version_minor": 0
      },
      "text/plain": [
       "Validation: 0it [00:00, ?it/s]"
      ]
     },
     "metadata": {},
     "output_type": "display_data"
    },
    {
     "data": {
      "application/vnd.jupyter.widget-view+json": {
       "model_id": "",
       "version_major": 2,
       "version_minor": 0
      },
      "text/plain": [
       "Validation: 0it [00:00, ?it/s]"
      ]
     },
     "metadata": {},
     "output_type": "display_data"
    },
    {
     "data": {
      "application/vnd.jupyter.widget-view+json": {
       "model_id": "",
       "version_major": 2,
       "version_minor": 0
      },
      "text/plain": [
       "Validation: 0it [00:00, ?it/s]"
      ]
     },
     "metadata": {},
     "output_type": "display_data"
    },
    {
     "data": {
      "application/vnd.jupyter.widget-view+json": {
       "model_id": "",
       "version_major": 2,
       "version_minor": 0
      },
      "text/plain": [
       "Validation: 0it [00:00, ?it/s]"
      ]
     },
     "metadata": {},
     "output_type": "display_data"
    },
    {
     "data": {
      "application/vnd.jupyter.widget-view+json": {
       "model_id": "",
       "version_major": 2,
       "version_minor": 0
      },
      "text/plain": [
       "Validation: 0it [00:00, ?it/s]"
      ]
     },
     "metadata": {},
     "output_type": "display_data"
    },
    {
     "data": {
      "application/vnd.jupyter.widget-view+json": {
       "model_id": "",
       "version_major": 2,
       "version_minor": 0
      },
      "text/plain": [
       "Validation: 0it [00:00, ?it/s]"
      ]
     },
     "metadata": {},
     "output_type": "display_data"
    },
    {
     "data": {
      "application/vnd.jupyter.widget-view+json": {
       "model_id": "",
       "version_major": 2,
       "version_minor": 0
      },
      "text/plain": [
       "Validation: 0it [00:00, ?it/s]"
      ]
     },
     "metadata": {},
     "output_type": "display_data"
    },
    {
     "data": {
      "application/vnd.jupyter.widget-view+json": {
       "model_id": "",
       "version_major": 2,
       "version_minor": 0
      },
      "text/plain": [
       "Validation: 0it [00:00, ?it/s]"
      ]
     },
     "metadata": {},
     "output_type": "display_data"
    },
    {
     "data": {
      "application/vnd.jupyter.widget-view+json": {
       "model_id": "",
       "version_major": 2,
       "version_minor": 0
      },
      "text/plain": [
       "Validation: 0it [00:00, ?it/s]"
      ]
     },
     "metadata": {},
     "output_type": "display_data"
    },
    {
     "data": {
      "application/vnd.jupyter.widget-view+json": {
       "model_id": "",
       "version_major": 2,
       "version_minor": 0
      },
      "text/plain": [
       "Validation: 0it [00:00, ?it/s]"
      ]
     },
     "metadata": {},
     "output_type": "display_data"
    },
    {
     "data": {
      "application/vnd.jupyter.widget-view+json": {
       "model_id": "",
       "version_major": 2,
       "version_minor": 0
      },
      "text/plain": [
       "Validation: 0it [00:00, ?it/s]"
      ]
     },
     "metadata": {},
     "output_type": "display_data"
    },
    {
     "data": {
      "application/vnd.jupyter.widget-view+json": {
       "model_id": "",
       "version_major": 2,
       "version_minor": 0
      },
      "text/plain": [
       "Validation: 0it [00:00, ?it/s]"
      ]
     },
     "metadata": {},
     "output_type": "display_data"
    },
    {
     "data": {
      "application/vnd.jupyter.widget-view+json": {
       "model_id": "",
       "version_major": 2,
       "version_minor": 0
      },
      "text/plain": [
       "Validation: 0it [00:00, ?it/s]"
      ]
     },
     "metadata": {},
     "output_type": "display_data"
    },
    {
     "data": {
      "application/vnd.jupyter.widget-view+json": {
       "model_id": "",
       "version_major": 2,
       "version_minor": 0
      },
      "text/plain": [
       "Validation: 0it [00:00, ?it/s]"
      ]
     },
     "metadata": {},
     "output_type": "display_data"
    },
    {
     "data": {
      "application/vnd.jupyter.widget-view+json": {
       "model_id": "",
       "version_major": 2,
       "version_minor": 0
      },
      "text/plain": [
       "Validation: 0it [00:00, ?it/s]"
      ]
     },
     "metadata": {},
     "output_type": "display_data"
    },
    {
     "data": {
      "application/vnd.jupyter.widget-view+json": {
       "model_id": "",
       "version_major": 2,
       "version_minor": 0
      },
      "text/plain": [
       "Validation: 0it [00:00, ?it/s]"
      ]
     },
     "metadata": {},
     "output_type": "display_data"
    },
    {
     "data": {
      "application/vnd.jupyter.widget-view+json": {
       "model_id": "",
       "version_major": 2,
       "version_minor": 0
      },
      "text/plain": [
       "Validation: 0it [00:00, ?it/s]"
      ]
     },
     "metadata": {},
     "output_type": "display_data"
    },
    {
     "data": {
      "application/vnd.jupyter.widget-view+json": {
       "model_id": "",
       "version_major": 2,
       "version_minor": 0
      },
      "text/plain": [
       "Validation: 0it [00:00, ?it/s]"
      ]
     },
     "metadata": {},
     "output_type": "display_data"
    },
    {
     "data": {
      "application/vnd.jupyter.widget-view+json": {
       "model_id": "",
       "version_major": 2,
       "version_minor": 0
      },
      "text/plain": [
       "Validation: 0it [00:00, ?it/s]"
      ]
     },
     "metadata": {},
     "output_type": "display_data"
    },
    {
     "data": {
      "application/vnd.jupyter.widget-view+json": {
       "model_id": "",
       "version_major": 2,
       "version_minor": 0
      },
      "text/plain": [
       "Validation: 0it [00:00, ?it/s]"
      ]
     },
     "metadata": {},
     "output_type": "display_data"
    },
    {
     "data": {
      "application/vnd.jupyter.widget-view+json": {
       "model_id": "",
       "version_major": 2,
       "version_minor": 0
      },
      "text/plain": [
       "Validation: 0it [00:00, ?it/s]"
      ]
     },
     "metadata": {},
     "output_type": "display_data"
    },
    {
     "data": {
      "application/vnd.jupyter.widget-view+json": {
       "model_id": "",
       "version_major": 2,
       "version_minor": 0
      },
      "text/plain": [
       "Validation: 0it [00:00, ?it/s]"
      ]
     },
     "metadata": {},
     "output_type": "display_data"
    },
    {
     "data": {
      "application/vnd.jupyter.widget-view+json": {
       "model_id": "",
       "version_major": 2,
       "version_minor": 0
      },
      "text/plain": [
       "Validation: 0it [00:00, ?it/s]"
      ]
     },
     "metadata": {},
     "output_type": "display_data"
    },
    {
     "data": {
      "application/vnd.jupyter.widget-view+json": {
       "model_id": "",
       "version_major": 2,
       "version_minor": 0
      },
      "text/plain": [
       "Validation: 0it [00:00, ?it/s]"
      ]
     },
     "metadata": {},
     "output_type": "display_data"
    },
    {
     "data": {
      "application/vnd.jupyter.widget-view+json": {
       "model_id": "",
       "version_major": 2,
       "version_minor": 0
      },
      "text/plain": [
       "Validation: 0it [00:00, ?it/s]"
      ]
     },
     "metadata": {},
     "output_type": "display_data"
    },
    {
     "data": {
      "application/vnd.jupyter.widget-view+json": {
       "model_id": "",
       "version_major": 2,
       "version_minor": 0
      },
      "text/plain": [
       "Validation: 0it [00:00, ?it/s]"
      ]
     },
     "metadata": {},
     "output_type": "display_data"
    },
    {
     "data": {
      "application/vnd.jupyter.widget-view+json": {
       "model_id": "",
       "version_major": 2,
       "version_minor": 0
      },
      "text/plain": [
       "Validation: 0it [00:00, ?it/s]"
      ]
     },
     "metadata": {},
     "output_type": "display_data"
    },
    {
     "data": {
      "application/vnd.jupyter.widget-view+json": {
       "model_id": "",
       "version_major": 2,
       "version_minor": 0
      },
      "text/plain": [
       "Validation: 0it [00:00, ?it/s]"
      ]
     },
     "metadata": {},
     "output_type": "display_data"
    },
    {
     "data": {
      "application/vnd.jupyter.widget-view+json": {
       "model_id": "",
       "version_major": 2,
       "version_minor": 0
      },
      "text/plain": [
       "Validation: 0it [00:00, ?it/s]"
      ]
     },
     "metadata": {},
     "output_type": "display_data"
    },
    {
     "data": {
      "application/vnd.jupyter.widget-view+json": {
       "model_id": "",
       "version_major": 2,
       "version_minor": 0
      },
      "text/plain": [
       "Validation: 0it [00:00, ?it/s]"
      ]
     },
     "metadata": {},
     "output_type": "display_data"
    },
    {
     "data": {
      "application/vnd.jupyter.widget-view+json": {
       "model_id": "",
       "version_major": 2,
       "version_minor": 0
      },
      "text/plain": [
       "Validation: 0it [00:00, ?it/s]"
      ]
     },
     "metadata": {},
     "output_type": "display_data"
    },
    {
     "data": {
      "application/vnd.jupyter.widget-view+json": {
       "model_id": "",
       "version_major": 2,
       "version_minor": 0
      },
      "text/plain": [
       "Validation: 0it [00:00, ?it/s]"
      ]
     },
     "metadata": {},
     "output_type": "display_data"
    },
    {
     "data": {
      "application/vnd.jupyter.widget-view+json": {
       "model_id": "",
       "version_major": 2,
       "version_minor": 0
      },
      "text/plain": [
       "Validation: 0it [00:00, ?it/s]"
      ]
     },
     "metadata": {},
     "output_type": "display_data"
    },
    {
     "data": {
      "application/vnd.jupyter.widget-view+json": {
       "model_id": "",
       "version_major": 2,
       "version_minor": 0
      },
      "text/plain": [
       "Validation: 0it [00:00, ?it/s]"
      ]
     },
     "metadata": {},
     "output_type": "display_data"
    },
    {
     "data": {
      "application/vnd.jupyter.widget-view+json": {
       "model_id": "",
       "version_major": 2,
       "version_minor": 0
      },
      "text/plain": [
       "Validation: 0it [00:00, ?it/s]"
      ]
     },
     "metadata": {},
     "output_type": "display_data"
    },
    {
     "data": {
      "application/vnd.jupyter.widget-view+json": {
       "model_id": "",
       "version_major": 2,
       "version_minor": 0
      },
      "text/plain": [
       "Validation: 0it [00:00, ?it/s]"
      ]
     },
     "metadata": {},
     "output_type": "display_data"
    },
    {
     "data": {
      "application/vnd.jupyter.widget-view+json": {
       "model_id": "",
       "version_major": 2,
       "version_minor": 0
      },
      "text/plain": [
       "Validation: 0it [00:00, ?it/s]"
      ]
     },
     "metadata": {},
     "output_type": "display_data"
    },
    {
     "data": {
      "application/vnd.jupyter.widget-view+json": {
       "model_id": "",
       "version_major": 2,
       "version_minor": 0
      },
      "text/plain": [
       "Validation: 0it [00:00, ?it/s]"
      ]
     },
     "metadata": {},
     "output_type": "display_data"
    },
    {
     "data": {
      "application/vnd.jupyter.widget-view+json": {
       "model_id": "",
       "version_major": 2,
       "version_minor": 0
      },
      "text/plain": [
       "Validation: 0it [00:00, ?it/s]"
      ]
     },
     "metadata": {},
     "output_type": "display_data"
    },
    {
     "data": {
      "application/vnd.jupyter.widget-view+json": {
       "model_id": "",
       "version_major": 2,
       "version_minor": 0
      },
      "text/plain": [
       "Validation: 0it [00:00, ?it/s]"
      ]
     },
     "metadata": {},
     "output_type": "display_data"
    },
    {
     "data": {
      "application/vnd.jupyter.widget-view+json": {
       "model_id": "",
       "version_major": 2,
       "version_minor": 0
      },
      "text/plain": [
       "Validation: 0it [00:00, ?it/s]"
      ]
     },
     "metadata": {},
     "output_type": "display_data"
    },
    {
     "data": {
      "application/vnd.jupyter.widget-view+json": {
       "model_id": "",
       "version_major": 2,
       "version_minor": 0
      },
      "text/plain": [
       "Validation: 0it [00:00, ?it/s]"
      ]
     },
     "metadata": {},
     "output_type": "display_data"
    },
    {
     "data": {
      "application/vnd.jupyter.widget-view+json": {
       "model_id": "",
       "version_major": 2,
       "version_minor": 0
      },
      "text/plain": [
       "Validation: 0it [00:00, ?it/s]"
      ]
     },
     "metadata": {},
     "output_type": "display_data"
    },
    {
     "data": {
      "application/vnd.jupyter.widget-view+json": {
       "model_id": "",
       "version_major": 2,
       "version_minor": 0
      },
      "text/plain": [
       "Validation: 0it [00:00, ?it/s]"
      ]
     },
     "metadata": {},
     "output_type": "display_data"
    },
    {
     "data": {
      "application/vnd.jupyter.widget-view+json": {
       "model_id": "",
       "version_major": 2,
       "version_minor": 0
      },
      "text/plain": [
       "Validation: 0it [00:00, ?it/s]"
      ]
     },
     "metadata": {},
     "output_type": "display_data"
    },
    {
     "data": {
      "application/vnd.jupyter.widget-view+json": {
       "model_id": "",
       "version_major": 2,
       "version_minor": 0
      },
      "text/plain": [
       "Validation: 0it [00:00, ?it/s]"
      ]
     },
     "metadata": {},
     "output_type": "display_data"
    },
    {
     "data": {
      "application/vnd.jupyter.widget-view+json": {
       "model_id": "",
       "version_major": 2,
       "version_minor": 0
      },
      "text/plain": [
       "Validation: 0it [00:00, ?it/s]"
      ]
     },
     "metadata": {},
     "output_type": "display_data"
    },
    {
     "data": {
      "application/vnd.jupyter.widget-view+json": {
       "model_id": "",
       "version_major": 2,
       "version_minor": 0
      },
      "text/plain": [
       "Validation: 0it [00:00, ?it/s]"
      ]
     },
     "metadata": {},
     "output_type": "display_data"
    },
    {
     "data": {
      "application/vnd.jupyter.widget-view+json": {
       "model_id": "",
       "version_major": 2,
       "version_minor": 0
      },
      "text/plain": [
       "Validation: 0it [00:00, ?it/s]"
      ]
     },
     "metadata": {},
     "output_type": "display_data"
    },
    {
     "data": {
      "application/vnd.jupyter.widget-view+json": {
       "model_id": "",
       "version_major": 2,
       "version_minor": 0
      },
      "text/plain": [
       "Validation: 0it [00:00, ?it/s]"
      ]
     },
     "metadata": {},
     "output_type": "display_data"
    },
    {
     "data": {
      "application/vnd.jupyter.widget-view+json": {
       "model_id": "",
       "version_major": 2,
       "version_minor": 0
      },
      "text/plain": [
       "Validation: 0it [00:00, ?it/s]"
      ]
     },
     "metadata": {},
     "output_type": "display_data"
    },
    {
     "data": {
      "application/vnd.jupyter.widget-view+json": {
       "model_id": "",
       "version_major": 2,
       "version_minor": 0
      },
      "text/plain": [
       "Validation: 0it [00:00, ?it/s]"
      ]
     },
     "metadata": {},
     "output_type": "display_data"
    },
    {
     "name": "stderr",
     "output_type": "stream",
     "text": [
      "Exception ignored in: <function _MultiProcessingDataLoaderIter.__del__ at 0x7fe922ffa820>\n",
      "Traceback (most recent call last):\n",
      "  File \"/opt/conda/lib/python3.8/site-packages/torch/utils/data/dataloader.py\", line 1405, in __del__\n",
      "    self._shutdown_workers()Exception ignored in: <function _MultiProcessingDataLoaderIter.__del__ at 0x7fe922ffa820>\n",
      "Traceback (most recent call last):\n",
      "\n",
      "  File \"/opt/conda/lib/python3.8/site-packages/torch/utils/data/dataloader.py\", line 1405, in __del__\n",
      "  File \"/opt/conda/lib/python3.8/site-packages/torch/utils/data/dataloader.py\", line 1388, in _shutdown_workers\n",
      "Exception ignored in:     <function _MultiProcessingDataLoaderIter.__del__ at 0x7fe922ffa820>    if w.is_alive():Exception ignored in: \n",
      "self._shutdown_workers()Traceback (most recent call last):\n",
      "\n",
      "  File \"/opt/conda/lib/python3.8/multiprocessing/process.py\", line 160, in is_alive\n",
      "\n",
      "<function _MultiProcessingDataLoaderIter.__del__ at 0x7fe922ffa820>  File \"/opt/conda/lib/python3.8/site-packages/torch/utils/data/dataloader.py\", line 1388, in _shutdown_workers\n",
      "    \n",
      "Traceback (most recent call last):\n",
      "  File \"/opt/conda/lib/python3.8/site-packages/torch/utils/data/dataloader.py\", line 1405, in __del__\n",
      "    assert self._parent_pid == os.getpid(), 'can only test a child process'      File \"/opt/conda/lib/python3.8/site-packages/torch/utils/data/dataloader.py\", line 1405, in __del__\n",
      "if w.is_alive():self._shutdown_workers()\n",
      "    \n",
      "AssertionError\n",
      "  File \"/opt/conda/lib/python3.8/multiprocessing/process.py\", line 160, in is_alive\n",
      "      File \"/opt/conda/lib/python3.8/site-packages/torch/utils/data/dataloader.py\", line 1388, in _shutdown_workers\n",
      "self._shutdown_workers()assert self._parent_pid == os.getpid(), 'can only test a child process'\n",
      "\n",
      ":   File \"/opt/conda/lib/python3.8/site-packages/torch/utils/data/dataloader.py\", line 1388, in _shutdown_workers\n",
      "AssertionError        can only test a child process: if w.is_alive():\n",
      "\n",
      "can only test a child processif w.is_alive():\n",
      "  File \"/opt/conda/lib/python3.8/multiprocessing/process.py\", line 160, in is_alive\n",
      "Exception ignored in: <function _MultiProcessingDataLoaderIter.__del__ at 0x7fe922ffa820>\n",
      "\n",
      "  File \"/opt/conda/lib/python3.8/multiprocessing/process.py\", line 160, in is_alive\n",
      "        assert self._parent_pid == os.getpid(), 'can only test a child process'assert self._parent_pid == os.getpid(), 'can only test a child process'Traceback (most recent call last):\n",
      "  File \"/opt/conda/lib/python3.8/site-packages/torch/utils/data/dataloader.py\", line 1405, in __del__\n",
      "\n",
      "AssertionError    \n",
      "self._shutdown_workers()AssertionError\n",
      ": can only test a child process  File \"/opt/conda/lib/python3.8/site-packages/torch/utils/data/dataloader.py\", line 1388, in _shutdown_workers\n",
      "\n",
      "    if w.is_alive():\n",
      "  File \"/opt/conda/lib/python3.8/multiprocessing/process.py\", line 160, in is_alive\n",
      ": can only test a child process    \n",
      "assert self._parent_pid == os.getpid(), 'can only test a child process'\n",
      "Exception ignored in: AssertionError: <function _MultiProcessingDataLoaderIter.__del__ at 0x7fe922ffa820>Exception ignored in: can only test a child process<function _MultiProcessingDataLoaderIter.__del__ at 0x7fe922ffa820>\n",
      "\n",
      "\n",
      "Traceback (most recent call last):\n",
      "Traceback (most recent call last):\n",
      "  File \"/opt/conda/lib/python3.8/site-packages/torch/utils/data/dataloader.py\", line 1405, in __del__\n",
      "Exception ignored in:   File \"/opt/conda/lib/python3.8/site-packages/torch/utils/data/dataloader.py\", line 1405, in __del__\n",
      "    Exception ignored in: <function _MultiProcessingDataLoaderIter.__del__ at 0x7fe922ffa820>    <function _MultiProcessingDataLoaderIter.__del__ at 0x7fe922ffa820>self._shutdown_workers()self._shutdown_workers()\n",
      "\n",
      "\n",
      "  File \"/opt/conda/lib/python3.8/site-packages/torch/utils/data/dataloader.py\", line 1388, in _shutdown_workers\n",
      "Exception ignored in: \n",
      "<function _MultiProcessingDataLoaderIter.__del__ at 0x7fe922ffa820>  File \"/opt/conda/lib/python3.8/site-packages/torch/utils/data/dataloader.py\", line 1388, in _shutdown_workers\n",
      "Traceback (most recent call last):\n",
      "Traceback (most recent call last):\n",
      "          File \"/opt/conda/lib/python3.8/site-packages/torch/utils/data/dataloader.py\", line 1405, in __del__\n",
      "if w.is_alive():\n",
      "      File \"/opt/conda/lib/python3.8/site-packages/torch/utils/data/dataloader.py\", line 1405, in __del__\n",
      "Traceback (most recent call last):\n",
      "if w.is_alive():\n",
      "  File \"/opt/conda/lib/python3.8/site-packages/torch/utils/data/dataloader.py\", line 1405, in __del__\n",
      "    Exception ignored in: self._shutdown_workers()self._shutdown_workers()    \n",
      "<function _MultiProcessingDataLoaderIter.__del__ at 0x7fe922ffa820>\n",
      "self._shutdown_workers()Exception ignored in: \n",
      "  File \"/opt/conda/lib/python3.8/multiprocessing/process.py\", line 160, in is_alive\n",
      "\n",
      "  File \"/opt/conda/lib/python3.8/site-packages/torch/utils/data/dataloader.py\", line 1388, in _shutdown_workers\n",
      "\n",
      "  File \"/opt/conda/lib/python3.8/multiprocessing/process.py\", line 160, in is_alive\n",
      "<function _MultiProcessingDataLoaderIter.__del__ at 0x7fe922ffa820>          File \"/opt/conda/lib/python3.8/site-packages/torch/utils/data/dataloader.py\", line 1388, in _shutdown_workers\n",
      "Traceback (most recent call last):\n",
      "    assert self._parent_pid == os.getpid(), 'can only test a child process'  File \"/opt/conda/lib/python3.8/site-packages/torch/utils/data/dataloader.py\", line 1405, in __del__\n",
      "if w.is_alive():    assert self._parent_pid == os.getpid(), 'can only test a child process'\n",
      "    \n",
      "\n",
      "if w.is_alive():self._shutdown_workers()AssertionErrorAssertionError  File \"/opt/conda/lib/python3.8/site-packages/torch/utils/data/dataloader.py\", line 1388, in _shutdown_workers\n",
      "Traceback (most recent call last):\n",
      "\n",
      "\n",
      ":   File \"/opt/conda/lib/python3.8/multiprocessing/process.py\", line 160, in is_alive\n",
      ":           File \"/opt/conda/lib/python3.8/site-packages/torch/utils/data/dataloader.py\", line 1388, in _shutdown_workers\n",
      "if w.is_alive():can only test a child process  File \"/opt/conda/lib/python3.8/site-packages/torch/utils/data/dataloader.py\", line 1405, in __del__\n",
      "\n",
      "assert self._parent_pid == os.getpid(), 'can only test a child process'\n",
      "    can only test a child processif w.is_alive():    \n",
      "\n",
      "self._shutdown_workers()\n",
      "  File \"/opt/conda/lib/python3.8/multiprocessing/process.py\", line 160, in is_alive\n",
      "\n",
      "AssertionError      File \"/opt/conda/lib/python3.8/multiprocessing/process.py\", line 160, in is_alive\n",
      "\n",
      "  File \"/opt/conda/lib/python3.8/multiprocessing/process.py\", line 160, in is_alive\n",
      "Exception ignored in:       File \"/opt/conda/lib/python3.8/site-packages/torch/utils/data/dataloader.py\", line 1388, in _shutdown_workers\n",
      ": <function _MultiProcessingDataLoaderIter.__del__ at 0x7fe922ffa820>assert self._parent_pid == os.getpid(), 'can only test a child process'    \n",
      "can only test a child processassert self._parent_pid == os.getpid(), 'can only test a child process'assert self._parent_pid == os.getpid(), 'can only test a child process'\n",
      "Traceback (most recent call last):\n",
      "\n",
      "\n",
      "\n",
      "AssertionErrorException ignored in:     AssertionErrorAssertionError  File \"/opt/conda/lib/python3.8/site-packages/torch/utils/data/dataloader.py\", line 1405, in __del__\n",
      "<function _MultiProcessingDataLoaderIter.__del__ at 0x7fe922ffa820>: \n",
      "Exception ignored in:     if w.is_alive():Traceback (most recent call last):\n",
      "<function _MultiProcessingDataLoaderIter.__del__ at 0x7fe922ffa820>  File \"/opt/conda/lib/python3.8/site-packages/torch/utils/data/dataloader.py\", line 1405, in __del__\n",
      ": : \n",
      "can only test a child processself._shutdown_workers()can only test a child process    \n",
      "\n",
      "  File \"/opt/conda/lib/python3.8/multiprocessing/process.py\", line 160, in is_alive\n",
      "can only test a child process  File \"/opt/conda/lib/python3.8/site-packages/torch/utils/data/dataloader.py\", line 1388, in _shutdown_workers\n",
      "self._shutdown_workers()\n",
      "\n",
      "\n",
      "    \n",
      "Traceback (most recent call last):\n",
      "assert self._parent_pid == os.getpid(), 'can only test a child process'\n",
      "    Exception ignored in: Exception ignored in:   File \"/opt/conda/lib/python3.8/site-packages/torch/utils/data/dataloader.py\", line 1405, in __del__\n",
      "<function _MultiProcessingDataLoaderIter.__del__ at 0x7fe922ffa820>  File \"/opt/conda/lib/python3.8/site-packages/torch/utils/data/dataloader.py\", line 1388, in _shutdown_workers\n",
      "\n",
      "AssertionError        Traceback (most recent call last):\n",
      "if w.is_alive():if w.is_alive():self._shutdown_workers()<function _MultiProcessingDataLoaderIter.__del__ at 0x7fe922ffa820>Exception ignored in:   File \"/opt/conda/lib/python3.8/site-packages/torch/utils/data/dataloader.py\", line 1405, in __del__\n",
      "\n",
      "\n",
      "<function _MultiProcessingDataLoaderIter.__del__ at 0x7fe922ffa820>\n",
      "      File \"/opt/conda/lib/python3.8/site-packages/torch/utils/data/dataloader.py\", line 1388, in _shutdown_workers\n",
      "\n",
      "Traceback (most recent call last):\n",
      "  File \"/opt/conda/lib/python3.8/site-packages/torch/utils/data/dataloader.py\", line 1405, in __del__\n",
      ":     Traceback (most recent call last):\n",
      "can only test a child processself._shutdown_workers()\n",
      "\n",
      "\n",
      "  File \"/opt/conda/lib/python3.8/site-packages/torch/utils/data/dataloader.py\", line 1388, in _shutdown_workers\n",
      "  File \"/opt/conda/lib/python3.8/multiprocessing/process.py\", line 160, in is_alive\n",
      "  File \"/opt/conda/lib/python3.8/multiprocessing/process.py\", line 160, in is_alive\n",
      "  File \"/opt/conda/lib/python3.8/site-packages/torch/utils/data/dataloader.py\", line 1405, in __del__\n",
      "if w.is_alive():            \n",
      "    if w.is_alive():self._shutdown_workers()      File \"/opt/conda/lib/python3.8/multiprocessing/process.py\", line 160, in is_alive\n",
      "\n",
      "\n",
      "self._shutdown_workers()assert self._parent_pid == os.getpid(), 'can only test a child process'    \n",
      "Exception ignored in:   File \"/opt/conda/lib/python3.8/multiprocessing/process.py\", line 160, in is_alive\n",
      "  File \"/opt/conda/lib/python3.8/site-packages/torch/utils/data/dataloader.py\", line 1388, in _shutdown_workers\n",
      "assert self._parent_pid == os.getpid(), 'can only test a child process'  File \"/opt/conda/lib/python3.8/site-packages/torch/utils/data/dataloader.py\", line 1388, in _shutdown_workers\n",
      "\n",
      "assert self._parent_pid == os.getpid(), 'can only test a child process'<function _MultiProcessingDataLoaderIter.__del__ at 0x7fe922ffa820>\n",
      "    AssertionError\n",
      "AssertionError\n",
      "assert self._parent_pid == os.getpid(), 'can only test a child process'    \n",
      ": if w.is_alive()::     Traceback (most recent call last):\n",
      "\n",
      "AssertionErrorcan only test a child processcan only test a child processif w.is_alive():AssertionError\n",
      "  File \"/opt/conda/lib/python3.8/multiprocessing/process.py\", line 160, in is_alive\n",
      "  File \"/opt/conda/lib/python3.8/site-packages/torch/utils/data/dataloader.py\", line 1405, in __del__\n",
      "\n",
      "    : \n",
      ":     can only test a child process  File \"/opt/conda/lib/python3.8/multiprocessing/process.py\", line 160, in is_alive\n",
      "can only test a child processassert self._parent_pid == os.getpid(), 'can only test a child process'self._shutdown_workers()\n",
      "    \n",
      "\n",
      "\n",
      "AssertionError  File \"/opt/conda/lib/python3.8/site-packages/torch/utils/data/dataloader.py\", line 1388, in _shutdown_workers\n",
      "assert self._parent_pid == os.getpid(), 'can only test a child process'    \n",
      ": if w.is_alive():AssertionErrorException ignored in: can only test a child process: \n",
      "\n",
      "<function _MultiProcessingDataLoaderIter.__del__ at 0x7fe922ffa820>Exception ignored in: \n",
      "Traceback (most recent call last):\n",
      "Exception ignored in: Exception ignored in:   File \"/opt/conda/lib/python3.8/multiprocessing/process.py\", line 160, in is_alive\n",
      "<function _MultiProcessingDataLoaderIter.__del__ at 0x7fe922ffa820>  File \"/opt/conda/lib/python3.8/site-packages/torch/utils/data/dataloader.py\", line 1405, in __del__\n",
      "    <function _MultiProcessingDataLoaderIter.__del__ at 0x7fe922ffa820>\n",
      "\n",
      "<function _MultiProcessingDataLoaderIter.__del__ at 0x7fe922ffa820>can only test a child processassert self._parent_pid == os.getpid(), 'can only test a child process'\n",
      "\n",
      "Traceback (most recent call last):\n",
      "\n",
      "Traceback (most recent call last):\n",
      "  File \"/opt/conda/lib/python3.8/site-packages/torch/utils/data/dataloader.py\", line 1405, in __del__\n",
      "      File \"/opt/conda/lib/python3.8/site-packages/torch/utils/data/dataloader.py\", line 1405, in __del__\n",
      "    self._shutdown_workers()\n",
      "self._shutdown_workers()  File \"/opt/conda/lib/python3.8/site-packages/torch/utils/data/dataloader.py\", line 1388, in _shutdown_workers\n",
      "Traceback (most recent call last):\n",
      "Exception ignored in:         \n",
      "if w.is_alive():\n",
      "  File \"/opt/conda/lib/python3.8/site-packages/torch/utils/data/dataloader.py\", line 1405, in __del__\n",
      "  File \"/opt/conda/lib/python3.8/site-packages/torch/utils/data/dataloader.py\", line 1388, in _shutdown_workers\n",
      "  File \"/opt/conda/lib/python3.8/multiprocessing/process.py\", line 160, in is_alive\n",
      "AssertionError        self._shutdown_workers()    <function _MultiProcessingDataLoaderIter.__del__ at 0x7fe922ffa820>self._shutdown_workers(): \n",
      "\n",
      "if w.is_alive():Traceback (most recent call last):\n",
      "\n",
      "  File \"/opt/conda/lib/python3.8/site-packages/torch/utils/data/dataloader.py\", line 1388, in _shutdown_workers\n",
      "can only test a child process  File \"/opt/conda/lib/python3.8/site-packages/torch/utils/data/dataloader.py\", line 1405, in __del__\n",
      "  File \"/opt/conda/lib/python3.8/site-packages/torch/utils/data/dataloader.py\", line 1388, in _shutdown_workers\n",
      "            \n",
      "if w.is_alive():self._shutdown_workers()if w.is_alive():assert self._parent_pid == os.getpid(), 'can only test a child process'\n",
      "  File \"/opt/conda/lib/python3.8/multiprocessing/process.py\", line 160, in is_alive\n",
      "\n",
      "\n",
      "\n",
      "      File \"/opt/conda/lib/python3.8/multiprocessing/process.py\", line 160, in is_alive\n",
      "AssertionError  File \"/opt/conda/lib/python3.8/site-packages/torch/utils/data/dataloader.py\", line 1388, in _shutdown_workers\n",
      "    : assert self._parent_pid == os.getpid(), 'can only test a child process'    \n",
      "can only test a child process\n",
      "Exception ignored in: \n",
      "if w.is_alive():assert self._parent_pid == os.getpid(), 'can only test a child process'\n",
      "\n",
      "<function _MultiProcessingDataLoaderIter.__del__ at 0x7fe922ffa820>  File \"/opt/conda/lib/python3.8/multiprocessing/process.py\", line 160, in is_alive\n",
      "AssertionErrorAssertionError    :   File \"/opt/conda/lib/python3.8/multiprocessing/process.py\", line 160, in is_alive\n",
      "\n",
      ": can only test a child processassert self._parent_pid == os.getpid(), 'can only test a child process'\n",
      "    Traceback (most recent call last):\n",
      "can only test a child process  File \"/opt/conda/lib/python3.8/site-packages/torch/utils/data/dataloader.py\", line 1405, in __del__\n",
      "\n",
      "    self._shutdown_workers()assert self._parent_pid == os.getpid(), 'can only test a child process'\n",
      "\n",
      "  File \"/opt/conda/lib/python3.8/site-packages/torch/utils/data/dataloader.py\", line 1388, in _shutdown_workers\n",
      "    \n",
      "Exception ignored in: if w.is_alive():AssertionErrorAssertionError\n",
      ": : can only test a child process<function _MultiProcessingDataLoaderIter.__del__ at 0x7fe922ffa820>\n",
      "\n",
      "  File \"/opt/conda/lib/python3.8/multiprocessing/process.py\", line 160, in is_alive\n",
      "Traceback (most recent call last):\n",
      "    Exception ignored in: can only test a child processassert self._parent_pid == os.getpid(), 'can only test a child process'  File \"/opt/conda/lib/python3.8/site-packages/torch/utils/data/dataloader.py\", line 1405, in __del__\n",
      "<function _MultiProcessingDataLoaderIter.__del__ at 0x7fe922ffa820>    self._shutdown_workers()\n",
      "\n",
      "\n",
      "\n",
      "Traceback (most recent call last):\n",
      "AssertionErrorException ignored in:   File \"/opt/conda/lib/python3.8/site-packages/torch/utils/data/dataloader.py\", line 1388, in _shutdown_workers\n",
      "<function _MultiProcessingDataLoaderIter.__del__ at 0x7fe922ffa820>:   File \"/opt/conda/lib/python3.8/site-packages/torch/utils/data/dataloader.py\", line 1405, in __del__\n",
      "    \n",
      "self._shutdown_workers()Traceback (most recent call last):\n",
      "\n",
      "      File \"/opt/conda/lib/python3.8/site-packages/torch/utils/data/dataloader.py\", line 1405, in __del__\n",
      "can only test a child process  File \"/opt/conda/lib/python3.8/site-packages/torch/utils/data/dataloader.py\", line 1388, in _shutdown_workers\n",
      "if w.is_alive():    \n",
      "self._shutdown_workers()\n",
      "  File \"/opt/conda/lib/python3.8/multiprocessing/process.py\", line 160, in is_alive\n",
      "          File \"/opt/conda/lib/python3.8/site-packages/torch/utils/data/dataloader.py\", line 1388, in _shutdown_workers\n",
      "if w.is_alive():\n",
      "    \n",
      "assert self._parent_pid == os.getpid(), 'can only test a child process'if w.is_alive():\n",
      "\n",
      "  File \"/opt/conda/lib/python3.8/multiprocessing/process.py\", line 160, in is_alive\n",
      "  File \"/opt/conda/lib/python3.8/multiprocessing/process.py\", line 160, in is_alive\n",
      "AssertionError    : can only test a child processassert self._parent_pid == os.getpid(), 'can only test a child process'\n",
      "\n",
      "    AssertionErrorException ignored in: <function _MultiProcessingDataLoaderIter.__del__ at 0x7fe922ffa820>\n",
      "Traceback (most recent call last):\n",
      "assert self._parent_pid == os.getpid(), 'can only test a child process':   File \"/opt/conda/lib/python3.8/site-packages/torch/utils/data/dataloader.py\", line 1405, in __del__\n",
      "can only test a child process\n",
      "    \n",
      "AssertionErrorself._shutdown_workers()Exception ignored in: : can only test a child process\n",
      "  File \"/opt/conda/lib/python3.8/site-packages/torch/utils/data/dataloader.py\", line 1388, in _shutdown_workers\n",
      "\n",
      "    <function _MultiProcessingDataLoaderIter.__del__ at 0x7fe922ffa820>if w.is_alive():\n",
      "\n",
      "Traceback (most recent call last):\n",
      "  File \"/opt/conda/lib/python3.8/multiprocessing/process.py\", line 160, in is_alive\n",
      "  File \"/opt/conda/lib/python3.8/site-packages/torch/utils/data/dataloader.py\", line 1405, in __del__\n",
      "        assert self._parent_pid == os.getpid(), 'can only test a child process'self._shutdown_workers()\n",
      "\n",
      "AssertionError:   File \"/opt/conda/lib/python3.8/site-packages/torch/utils/data/dataloader.py\", line 1388, in _shutdown_workers\n",
      "can only test a child process    \n",
      "if w.is_alive():\n",
      "  File \"/opt/conda/lib/python3.8/multiprocessing/process.py\", line 160, in is_alive\n",
      "    assert self._parent_pid == os.getpid(), 'can only test a child process'\n",
      "AssertionError: can only test a child process\n",
      "Exception ignored in: <function _MultiProcessingDataLoaderIter.__del__ at 0x7fe922ffa820>\n",
      "Traceback (most recent call last):\n",
      "  File \"/opt/conda/lib/python3.8/site-packages/torch/utils/data/dataloader.py\", line 1405, in __del__\n",
      "    self._shutdown_workers()\n",
      "  File \"/opt/conda/lib/python3.8/site-packages/torch/utils/data/dataloader.py\", line 1388, in _shutdown_workers\n",
      "    if w.is_alive():\n",
      "  File \"/opt/conda/lib/python3.8/multiprocessing/process.py\", line 160, in is_alive\n",
      "    assert self._parent_pid == os.getpid(), 'can only test a child process'\n",
      "AssertionError: can only test a child process\n",
      "Exception ignored in: <function _MultiProcessingDataLoaderIter.__del__ at 0x7fe922ffa820>\n",
      "Traceback (most recent call last):\n",
      "  File \"/opt/conda/lib/python3.8/site-packages/torch/utils/data/dataloader.py\", line 1405, in __del__\n",
      "    self._shutdown_workers()\n",
      "  File \"/opt/conda/lib/python3.8/site-packages/torch/utils/data/dataloader.py\", line 1388, in _shutdown_workers\n",
      "    if w.is_alive():\n",
      "  File \"/opt/conda/lib/python3.8/multiprocessing/process.py\", line 160, in is_alive\n",
      "    assert self._parent_pid == os.getpid(), 'can only test a child process'\n",
      "AssertionError: can only test a child process\n"
     ]
    },
    {
     "data": {
      "application/vnd.jupyter.widget-view+json": {
       "model_id": "",
       "version_major": 2,
       "version_minor": 0
      },
      "text/plain": [
       "Validation: 0it [00:00, ?it/s]"
      ]
     },
     "metadata": {},
     "output_type": "display_data"
    },
    {
     "name": "stderr",
     "output_type": "stream",
     "text": [
      "Exception ignored in: <function _MultiProcessingDataLoaderIter.__del__ at 0x7fe922ffa820>\n",
      "Traceback (most recent call last):\n",
      "  File \"/opt/conda/lib/python3.8/site-packages/torch/utils/data/dataloader.py\", line 1405, in __del__\n",
      "    self._shutdown_workers()Exception ignored in: \n",
      "<function _MultiProcessingDataLoaderIter.__del__ at 0x7fe922ffa820>  File \"/opt/conda/lib/python3.8/site-packages/torch/utils/data/dataloader.py\", line 1388, in _shutdown_workers\n",
      "\n",
      "    Traceback (most recent call last):\n",
      "if w.is_alive():\n",
      "  File \"/opt/conda/lib/python3.8/site-packages/torch/utils/data/dataloader.py\", line 1405, in __del__\n",
      "  File \"/opt/conda/lib/python3.8/multiprocessing/process.py\", line 160, in is_alive\n",
      "        self._shutdown_workers()assert self._parent_pid == os.getpid(), 'can only test a child process'\n",
      "  File \"/opt/conda/lib/python3.8/site-packages/torch/utils/data/dataloader.py\", line 1388, in _shutdown_workers\n",
      "\n",
      "AssertionError    : if w.is_alive():can only test a child process\n",
      "  File \"/opt/conda/lib/python3.8/multiprocessing/process.py\", line 160, in is_alive\n",
      "    assert self._parent_pid == os.getpid(), 'can only test a child process'\n",
      "AssertionError: \n",
      "can only test a child process\n",
      "Exception ignored in: Exception ignored in: <function _MultiProcessingDataLoaderIter.__del__ at 0x7fe922ffa820>\n",
      "<function _MultiProcessingDataLoaderIter.__del__ at 0x7fe922ffa820>\n",
      "Traceback (most recent call last):\n",
      "Traceback (most recent call last):\n",
      "  File \"/opt/conda/lib/python3.8/site-packages/torch/utils/data/dataloader.py\", line 1405, in __del__\n",
      "      File \"/opt/conda/lib/python3.8/site-packages/torch/utils/data/dataloader.py\", line 1405, in __del__\n",
      "    self._shutdown_workers()\n",
      "  File \"/opt/conda/lib/python3.8/site-packages/torch/utils/data/dataloader.py\", line 1388, in _shutdown_workers\n",
      "Exception ignored in:     if w.is_alive():self._shutdown_workers()\n",
      "\n",
      "<function _MultiProcessingDataLoaderIter.__del__ at 0x7fe922ffa820>  File \"/opt/conda/lib/python3.8/site-packages/torch/utils/data/dataloader.py\", line 1388, in _shutdown_workers\n",
      "Traceback (most recent call last):\n",
      "  File \"/opt/conda/lib/python3.8/multiprocessing/queues.py\", line 235, in _feed\n",
      "    close()\n",
      "Traceback (most recent call last):\n",
      "  File \"/opt/conda/lib/python3.8/multiprocessing/queues.py\", line 235, in _feed\n",
      "    close()\n",
      "  File \"/opt/conda/lib/python3.8/multiprocessing/connection.py\", line 177, in close\n",
      "    self._close()\n",
      "  File \"/opt/conda/lib/python3.8/multiprocessing/connection.py\", line 361, in _close\n",
      "    _close(self._handle)\n",
      "OSError: [Errno 9] Bad file descriptor\n",
      "Traceback (most recent call last):\n",
      "  File \"/opt/conda/lib/python3.8/multiprocessing/queues.py\", line 235, in _feed\n",
      "    close()\n",
      "  File \"/opt/conda/lib/python3.8/multiprocessing/connection.py\", line 177, in close\n",
      "    self._close()\n",
      "  File \"/opt/conda/lib/python3.8/multiprocessing/connection.py\", line 361, in _close\n",
      "    _close(self._handle)\n",
      "OSError: [Errno 9] Bad file descriptor\n",
      "Traceback (most recent call last):\n",
      "  File \"/opt/conda/lib/python3.8/multiprocessing/queues.py\", line 245, in _feed\n",
      "    send_bytes(obj)\n",
      "  File \"/opt/conda/lib/python3.8/multiprocessing/connection.py\", line 200, in send_bytes\n",
      "    self._send_bytes(m[offset:offset + size])\n",
      "  File \"/opt/conda/lib/python3.8/multiprocessing/connection.py\", line 411, in _send_bytes\n",
      "    self._send(header + buf)\n",
      "  File \"/opt/conda/lib/python3.8/multiprocessing/connection.py\", line 368, in _send\n",
      "    n = write(self._handle, buf)\n",
      "OSError: [Errno 9] Bad file descriptor\n",
      "Traceback (most recent call last):\n",
      "  File \"/opt/conda/lib/python3.8/multiprocessing/queues.py\", line 235, in _feed\n",
      "    close()\n",
      "  File \"/opt/conda/lib/python3.8/multiprocessing/connection.py\", line 177, in close\n",
      "    self._close()\n",
      "  File \"/opt/conda/lib/python3.8/multiprocessing/connection.py\", line 361, in _close\n",
      "    _close(self._handle)\n",
      "OSError: [Errno 9] Bad file descriptor\n",
      "  File \"/opt/conda/lib/python3.8/multiprocessing/connection.py\", line 177, in close\n",
      "    self._close()\n",
      "  File \"/opt/conda/lib/python3.8/multiprocessing/connection.py\", line 361, in _close\n",
      "    _close(self._handle)\n",
      "OSError: [Errno 9] Bad file descriptor\n",
      "Traceback (most recent call last):\n",
      "  File \"/opt/conda/lib/python3.8/multiprocessing/queues.py\", line 235, in _feed\n",
      "    close()\n",
      "  File \"/opt/conda/lib/python3.8/multiprocessing/connection.py\", line 177, in close\n",
      "    self._close()\n",
      "  File \"/opt/conda/lib/python3.8/multiprocessing/connection.py\", line 361, in _close\n",
      "    _close(self._handle)\n",
      "OSError: [Errno 9] Bad file descriptor\n",
      "  File \"/opt/conda/lib/python3.8/multiprocessing/process.py\", line 160, in is_alive\n",
      "\n",
      "    Traceback (most recent call last):\n",
      "assert self._parent_pid == os.getpid(), 'can only test a child process'    Exception ignored in:   File \"/opt/conda/lib/python3.8/site-packages/torch/utils/data/dataloader.py\", line 1405, in __del__\n",
      "\n",
      "AssertionError<function _MultiProcessingDataLoaderIter.__del__ at 0x7fe922ffa820>if w.is_alive():: \n",
      "\n",
      "    Traceback (most recent call last):\n",
      "can only test a child processself._shutdown_workers()  File \"/opt/conda/lib/python3.8/multiprocessing/process.py\", line 160, in is_alive\n",
      "    assert self._parent_pid == os.getpid(), 'can only test a child process'\n",
      "\n",
      "AssertionError:   File \"/opt/conda/lib/python3.8/site-packages/torch/utils/data/dataloader.py\", line 1405, in __del__\n",
      "can only test a child process    Exception ignored in: \n",
      "<function _MultiProcessingDataLoaderIter.__del__ at 0x7fe922ffa820>\n",
      "self._shutdown_workers()  File \"/opt/conda/lib/python3.8/site-packages/torch/utils/data/dataloader.py\", line 1388, in _shutdown_workers\n",
      "\n",
      "    Exception ignored in: \n",
      "<function _MultiProcessingDataLoaderIter.__del__ at 0x7fe922ffa820>if w.is_alive():  File \"/opt/conda/lib/python3.8/site-packages/torch/utils/data/dataloader.py\", line 1388, in _shutdown_workers\n",
      "\n",
      "Traceback (most recent call last):\n",
      "Exception ignored in: \n",
      "      File \"/opt/conda/lib/python3.8/site-packages/torch/utils/data/dataloader.py\", line 1405, in __del__\n",
      "Traceback (most recent call last):\n",
      "  File \"/opt/conda/lib/python3.8/multiprocessing/process.py\", line 160, in is_alive\n",
      "  File \"/opt/conda/lib/python3.8/site-packages/torch/utils/data/dataloader.py\", line 1405, in __del__\n",
      "if w.is_alive():    <function _MultiProcessingDataLoaderIter.__del__ at 0x7fe922ffa820>        \n",
      "assert self._parent_pid == os.getpid(), 'can only test a child process'self._shutdown_workers()\n",
      "  File \"/opt/conda/lib/python3.8/multiprocessing/process.py\", line 160, in is_alive\n",
      "Traceback (most recent call last):\n",
      "\n",
      "    \n",
      "self._shutdown_workers()assert self._parent_pid == os.getpid(), 'can only test a child process'  File \"/opt/conda/lib/python3.8/site-packages/torch/utils/data/dataloader.py\", line 1405, in __del__\n",
      "  File \"/opt/conda/lib/python3.8/site-packages/torch/utils/data/dataloader.py\", line 1388, in _shutdown_workers\n",
      "\n",
      "AssertionError\n",
      "AssertionError    :   File \"/opt/conda/lib/python3.8/site-packages/torch/utils/data/dataloader.py\", line 1388, in _shutdown_workers\n",
      "can only test a child processif w.is_alive():\n",
      "        \n",
      "self._shutdown_workers()if w.is_alive():: \n",
      "\n",
      "  File \"/opt/conda/lib/python3.8/multiprocessing/process.py\", line 160, in is_alive\n",
      "  File \"/opt/conda/lib/python3.8/multiprocessing/process.py\", line 160, in is_alive\n",
      "  File \"/opt/conda/lib/python3.8/site-packages/torch/utils/data/dataloader.py\", line 1388, in _shutdown_workers\n",
      "Exception ignored in:         <function _MultiProcessingDataLoaderIter.__del__ at 0x7fe922ffa820>can only test a child process\n",
      "assert self._parent_pid == os.getpid(), 'can only test a child process'assert self._parent_pid == os.getpid(), 'can only test a child process'\n",
      "    Traceback (most recent call last):\n",
      "\n",
      "\n",
      "  File \"/opt/conda/lib/python3.8/site-packages/torch/utils/data/dataloader.py\", line 1405, in __del__\n",
      "AssertionErrorif w.is_alive():AssertionError\n",
      "    : Exception ignored in:   File \"/opt/conda/lib/python3.8/multiprocessing/process.py\", line 160, in is_alive\n",
      ": <function _MultiProcessingDataLoaderIter.__del__ at 0x7fe922ffa820>can only test a child process\n",
      "    self._shutdown_workers()Traceback (most recent call last):\n",
      "can only test a child processassert self._parent_pid == os.getpid(), 'can only test a child process'\n",
      "  File \"/opt/conda/lib/python3.8/site-packages/torch/utils/data/dataloader.py\", line 1405, in __del__\n",
      "\n",
      "\n",
      "\n",
      "  File \"/opt/conda/lib/python3.8/site-packages/torch/utils/data/dataloader.py\", line 1388, in _shutdown_workers\n",
      "Exception ignored in: AssertionError    <function _MultiProcessingDataLoaderIter.__del__ at 0x7fe922ffa820>if w.is_alive():    : \n",
      "\n",
      "self._shutdown_workers()Traceback (most recent call last):\n",
      "\n",
      "Exception ignored in:   File \"/opt/conda/lib/python3.8/site-packages/torch/utils/data/dataloader.py\", line 1405, in __del__\n",
      "      File \"/opt/conda/lib/python3.8/site-packages/torch/utils/data/dataloader.py\", line 1388, in _shutdown_workers\n",
      "<function _MultiProcessingDataLoaderIter.__del__ at 0x7fe922ffa820>can only test a child processself._shutdown_workers()\n",
      "\n",
      "  File \"/opt/conda/lib/python3.8/multiprocessing/process.py\", line 160, in is_alive\n",
      "    \n",
      "Traceback (most recent call last):\n",
      "if w.is_alive():      File \"/opt/conda/lib/python3.8/site-packages/torch/utils/data/dataloader.py\", line 1405, in __del__\n",
      "\n",
      "  File \"/opt/conda/lib/python3.8/site-packages/torch/utils/data/dataloader.py\", line 1388, in _shutdown_workers\n",
      "    assert self._parent_pid == os.getpid(), 'can only test a child process'      File \"/opt/conda/lib/python3.8/multiprocessing/process.py\", line 160, in is_alive\n",
      "if w.is_alive():\n",
      "    self._shutdown_workers()AssertionError\n",
      "assert self._parent_pid == os.getpid(), 'can only test a child process'Exception ignored in: : \n",
      "  File \"/opt/conda/lib/python3.8/multiprocessing/process.py\", line 160, in is_alive\n",
      "can only test a child processAssertionError<function _MultiProcessingDataLoaderIter.__del__ at 0x7fe922ffa820>    : \n",
      "\n",
      "can only test a child processTraceback (most recent call last):\n",
      "assert self._parent_pid == os.getpid(), 'can only test a child process'  File \"/opt/conda/lib/python3.8/site-packages/torch/utils/data/dataloader.py\", line 1405, in __del__\n",
      "\n",
      "\n",
      "\n",
      "      File \"/opt/conda/lib/python3.8/site-packages/torch/utils/data/dataloader.py\", line 1388, in _shutdown_workers\n",
      "Exception ignored in: self._shutdown_workers()<function _MultiProcessingDataLoaderIter.__del__ at 0x7fe922ffa820>AssertionError\n",
      "    \n",
      ": Traceback (most recent call last):\n",
      "if w.is_alive():Exception ignored in:   File \"/opt/conda/lib/python3.8/site-packages/torch/utils/data/dataloader.py\", line 1388, in _shutdown_workers\n",
      "  File \"/opt/conda/lib/python3.8/site-packages/torch/utils/data/dataloader.py\", line 1405, in __del__\n",
      "<function _MultiProcessingDataLoaderIter.__del__ at 0x7fe922ffa820>can only test a child process    \n",
      "self._shutdown_workers()Traceback (most recent call last):\n",
      "\n",
      "  File \"/opt/conda/lib/python3.8/site-packages/torch/utils/data/dataloader.py\", line 1405, in __del__\n",
      "\n",
      "\n",
      "  File \"/opt/conda/lib/python3.8/site-packages/torch/utils/data/dataloader.py\", line 1388, in _shutdown_workers\n",
      "    self._shutdown_workers()  File \"/opt/conda/lib/python3.8/multiprocessing/process.py\", line 160, in is_alive\n",
      "\n",
      "            Exception ignored in:   File \"/opt/conda/lib/python3.8/site-packages/torch/utils/data/dataloader.py\", line 1388, in _shutdown_workers\n",
      "if w.is_alive():if w.is_alive():<function _MultiProcessingDataLoaderIter.__del__ at 0x7fe922ffa820>    \n",
      "\n",
      "if w.is_alive():  File \"/opt/conda/lib/python3.8/multiprocessing/process.py\", line 160, in is_alive\n",
      "assert self._parent_pid == os.getpid(), 'can only test a child process'Traceback (most recent call last):\n",
      "    \n",
      "\n",
      "  File \"/opt/conda/lib/python3.8/multiprocessing/process.py\", line 160, in is_alive\n",
      "  File \"/opt/conda/lib/python3.8/multiprocessing/process.py\", line 160, in is_alive\n",
      "assert self._parent_pid == os.getpid(), 'can only test a child process'      File \"/opt/conda/lib/python3.8/site-packages/torch/utils/data/dataloader.py\", line 1405, in __del__\n",
      "\n",
      "    assert self._parent_pid == os.getpid(), 'can only test a child process'    AssertionError\n",
      "\n",
      ": assert self._parent_pid == os.getpid(), 'can only test a child process'self._shutdown_workers()AssertionErrorAssertionErrorcan only test a child process\n",
      ": : \n",
      "\n",
      "can only test a child process  File \"/opt/conda/lib/python3.8/site-packages/torch/utils/data/dataloader.py\", line 1388, in _shutdown_workers\n",
      "AssertionError\n",
      "can only test a child process:     \n",
      "if w.is_alive():Exception ignored in: can only test a child process\n",
      "<function _MultiProcessingDataLoaderIter.__del__ at 0x7fe922ffa820>  File \"/opt/conda/lib/python3.8/multiprocessing/process.py\", line 160, in is_alive\n",
      "\n",
      "    Exception ignored in: Traceback (most recent call last):\n",
      "assert self._parent_pid == os.getpid(), 'can only test a child process'  File \"/opt/conda/lib/python3.8/site-packages/torch/utils/data/dataloader.py\", line 1405, in __del__\n",
      "\n",
      "\n",
      "<function _MultiProcessingDataLoaderIter.__del__ at 0x7fe922ffa820>    AssertionError\n",
      "Traceback (most recent call last):\n",
      "  File \"/opt/conda/lib/python3.8/site-packages/torch/utils/data/dataloader.py\", line 1405, in __del__\n",
      "Exception ignored in: : <function _MultiProcessingDataLoaderIter.__del__ at 0x7fe922ffa820>    self._shutdown_workers()self._shutdown_workers()\n",
      "\n",
      "  File \"/opt/conda/lib/python3.8/site-packages/torch/utils/data/dataloader.py\", line 1388, in _shutdown_workers\n",
      "  File \"/opt/conda/lib/python3.8/site-packages/torch/utils/data/dataloader.py\", line 1388, in _shutdown_workers\n",
      "can only test a child process    \n",
      "    \n",
      "if w.is_alive():Traceback (most recent call last):\n",
      "\n",
      "  File \"/opt/conda/lib/python3.8/site-packages/torch/utils/data/dataloader.py\", line 1405, in __del__\n",
      "if w.is_alive():  File \"/opt/conda/lib/python3.8/multiprocessing/process.py\", line 160, in is_alive\n",
      "\n",
      "        self._shutdown_workers()  File \"/opt/conda/lib/python3.8/multiprocessing/process.py\", line 160, in is_alive\n",
      "    \n",
      "assert self._parent_pid == os.getpid(), 'can only test a child process'  File \"/opt/conda/lib/python3.8/site-packages/torch/utils/data/dataloader.py\", line 1388, in _shutdown_workers\n",
      "assert self._parent_pid == os.getpid(), 'can only test a child process'    \n",
      "\n",
      "AssertionErrorAssertionErrorException ignored in: : if w.is_alive():<function _MultiProcessingDataLoaderIter.__del__ at 0x7fe922ffa820>: \n",
      "can only test a child process\n",
      "can only test a child process\n",
      "Traceback (most recent call last):\n",
      "\n",
      "  File \"/opt/conda/lib/python3.8/site-packages/torch/utils/data/dataloader.py\", line 1405, in __del__\n",
      "  File \"/opt/conda/lib/python3.8/multiprocessing/process.py\", line 160, in is_alive\n",
      "Exception ignored in:         self._shutdown_workers()assert self._parent_pid == os.getpid(), 'can only test a child process'<function _MultiProcessingDataLoaderIter.__del__ at 0x7fe922ffa820>\n",
      "\n",
      "\n",
      "Traceback (most recent call last):\n",
      "  File \"/opt/conda/lib/python3.8/site-packages/torch/utils/data/dataloader.py\", line 1388, in _shutdown_workers\n",
      "  File \"/opt/conda/lib/python3.8/site-packages/torch/utils/data/dataloader.py\", line 1405, in __del__\n",
      "AssertionError        : self._shutdown_workers()can only test a child process\n",
      "if w.is_alive():\n",
      "\n",
      "  File \"/opt/conda/lib/python3.8/site-packages/torch/utils/data/dataloader.py\", line 1388, in _shutdown_workers\n",
      "  File \"/opt/conda/lib/python3.8/multiprocessing/process.py\", line 160, in is_alive\n",
      "        if w.is_alive():assert self._parent_pid == os.getpid(), 'can only test a child process'\n",
      "  File \"/opt/conda/lib/python3.8/multiprocessing/process.py\", line 160, in is_alive\n",
      "\n",
      "    AssertionErrorassert self._parent_pid == os.getpid(), 'can only test a child process': \n",
      "AssertionErrorcan only test a child process: \n",
      "can only test a child process\n",
      "Exception ignored in: <function _MultiProcessingDataLoaderIter.__del__ at 0x7fe922ffa820>\n",
      "Traceback (most recent call last):\n",
      "  File \"/opt/conda/lib/python3.8/site-packages/torch/utils/data/dataloader.py\", line 1405, in __del__\n",
      "    self._shutdown_workers()\n",
      "  File \"/opt/conda/lib/python3.8/site-packages/torch/utils/data/dataloader.py\", line 1388, in _shutdown_workers\n",
      "    if w.is_alive():\n",
      "  File \"/opt/conda/lib/python3.8/multiprocessing/process.py\", line 160, in is_alive\n",
      "    assert self._parent_pid == os.getpid(), 'can only test a child process'\n",
      "AssertionError: can only test a child process\n",
      "Exception ignored in: <function _MultiProcessingDataLoaderIter.__del__ at 0x7fe922ffa820>\n",
      "Traceback (most recent call last):\n",
      "  File \"/opt/conda/lib/python3.8/site-packages/torch/utils/data/dataloader.py\", line 1405, in __del__\n",
      "    self._shutdown_workers()\n",
      "  File \"/opt/conda/lib/python3.8/site-packages/torch/utils/data/dataloader.py\", line 1388, in _shutdown_workers\n",
      "    if w.is_alive():\n",
      "  File \"/opt/conda/lib/python3.8/multiprocessing/process.py\", line 160, in is_alive\n",
      "    assert self._parent_pid == os.getpid(), 'can only test a child process'\n",
      "AssertionError: can only test a child process\n"
     ]
    },
    {
     "data": {
      "application/vnd.jupyter.widget-view+json": {
       "model_id": "",
       "version_major": 2,
       "version_minor": 0
      },
      "text/plain": [
       "Validation: 0it [00:00, ?it/s]"
      ]
     },
     "metadata": {},
     "output_type": "display_data"
    },
    {
     "data": {
      "application/vnd.jupyter.widget-view+json": {
       "model_id": "",
       "version_major": 2,
       "version_minor": 0
      },
      "text/plain": [
       "Validation: 0it [00:00, ?it/s]"
      ]
     },
     "metadata": {},
     "output_type": "display_data"
    },
    {
     "data": {
      "application/vnd.jupyter.widget-view+json": {
       "model_id": "",
       "version_major": 2,
       "version_minor": 0
      },
      "text/plain": [
       "Validation: 0it [00:00, ?it/s]"
      ]
     },
     "metadata": {},
     "output_type": "display_data"
    },
    {
     "data": {
      "application/vnd.jupyter.widget-view+json": {
       "model_id": "",
       "version_major": 2,
       "version_minor": 0
      },
      "text/plain": [
       "Validation: 0it [00:00, ?it/s]"
      ]
     },
     "metadata": {},
     "output_type": "display_data"
    },
    {
     "data": {
      "application/vnd.jupyter.widget-view+json": {
       "model_id": "",
       "version_major": 2,
       "version_minor": 0
      },
      "text/plain": [
       "Validation: 0it [00:00, ?it/s]"
      ]
     },
     "metadata": {},
     "output_type": "display_data"
    },
    {
     "data": {
      "application/vnd.jupyter.widget-view+json": {
       "model_id": "",
       "version_major": 2,
       "version_minor": 0
      },
      "text/plain": [
       "Validation: 0it [00:00, ?it/s]"
      ]
     },
     "metadata": {},
     "output_type": "display_data"
    },
    {
     "data": {
      "application/vnd.jupyter.widget-view+json": {
       "model_id": "",
       "version_major": 2,
       "version_minor": 0
      },
      "text/plain": [
       "Validation: 0it [00:00, ?it/s]"
      ]
     },
     "metadata": {},
     "output_type": "display_data"
    },
    {
     "data": {
      "application/vnd.jupyter.widget-view+json": {
       "model_id": "",
       "version_major": 2,
       "version_minor": 0
      },
      "text/plain": [
       "Validation: 0it [00:00, ?it/s]"
      ]
     },
     "metadata": {},
     "output_type": "display_data"
    },
    {
     "data": {
      "application/vnd.jupyter.widget-view+json": {
       "model_id": "",
       "version_major": 2,
       "version_minor": 0
      },
      "text/plain": [
       "Validation: 0it [00:00, ?it/s]"
      ]
     },
     "metadata": {},
     "output_type": "display_data"
    },
    {
     "data": {
      "application/vnd.jupyter.widget-view+json": {
       "model_id": "",
       "version_major": 2,
       "version_minor": 0
      },
      "text/plain": [
       "Validation: 0it [00:00, ?it/s]"
      ]
     },
     "metadata": {},
     "output_type": "display_data"
    },
    {
     "data": {
      "application/vnd.jupyter.widget-view+json": {
       "model_id": "",
       "version_major": 2,
       "version_minor": 0
      },
      "text/plain": [
       "Validation: 0it [00:00, ?it/s]"
      ]
     },
     "metadata": {},
     "output_type": "display_data"
    },
    {
     "data": {
      "application/vnd.jupyter.widget-view+json": {
       "model_id": "",
       "version_major": 2,
       "version_minor": 0
      },
      "text/plain": [
       "Validation: 0it [00:00, ?it/s]"
      ]
     },
     "metadata": {},
     "output_type": "display_data"
    },
    {
     "data": {
      "application/vnd.jupyter.widget-view+json": {
       "model_id": "",
       "version_major": 2,
       "version_minor": 0
      },
      "text/plain": [
       "Validation: 0it [00:00, ?it/s]"
      ]
     },
     "metadata": {},
     "output_type": "display_data"
    },
    {
     "data": {
      "application/vnd.jupyter.widget-view+json": {
       "model_id": "",
       "version_major": 2,
       "version_minor": 0
      },
      "text/plain": [
       "Validation: 0it [00:00, ?it/s]"
      ]
     },
     "metadata": {},
     "output_type": "display_data"
    },
    {
     "data": {
      "application/vnd.jupyter.widget-view+json": {
       "model_id": "",
       "version_major": 2,
       "version_minor": 0
      },
      "text/plain": [
       "Validation: 0it [00:00, ?it/s]"
      ]
     },
     "metadata": {},
     "output_type": "display_data"
    },
    {
     "data": {
      "application/vnd.jupyter.widget-view+json": {
       "model_id": "",
       "version_major": 2,
       "version_minor": 0
      },
      "text/plain": [
       "Validation: 0it [00:00, ?it/s]"
      ]
     },
     "metadata": {},
     "output_type": "display_data"
    },
    {
     "data": {
      "application/vnd.jupyter.widget-view+json": {
       "model_id": "",
       "version_major": 2,
       "version_minor": 0
      },
      "text/plain": [
       "Validation: 0it [00:00, ?it/s]"
      ]
     },
     "metadata": {},
     "output_type": "display_data"
    },
    {
     "data": {
      "application/vnd.jupyter.widget-view+json": {
       "model_id": "",
       "version_major": 2,
       "version_minor": 0
      },
      "text/plain": [
       "Validation: 0it [00:00, ?it/s]"
      ]
     },
     "metadata": {},
     "output_type": "display_data"
    },
    {
     "data": {
      "application/vnd.jupyter.widget-view+json": {
       "model_id": "",
       "version_major": 2,
       "version_minor": 0
      },
      "text/plain": [
       "Validation: 0it [00:00, ?it/s]"
      ]
     },
     "metadata": {},
     "output_type": "display_data"
    },
    {
     "data": {
      "application/vnd.jupyter.widget-view+json": {
       "model_id": "",
       "version_major": 2,
       "version_minor": 0
      },
      "text/plain": [
       "Validation: 0it [00:00, ?it/s]"
      ]
     },
     "metadata": {},
     "output_type": "display_data"
    },
    {
     "data": {
      "application/vnd.jupyter.widget-view+json": {
       "model_id": "",
       "version_major": 2,
       "version_minor": 0
      },
      "text/plain": [
       "Validation: 0it [00:00, ?it/s]"
      ]
     },
     "metadata": {},
     "output_type": "display_data"
    },
    {
     "data": {
      "application/vnd.jupyter.widget-view+json": {
       "model_id": "",
       "version_major": 2,
       "version_minor": 0
      },
      "text/plain": [
       "Validation: 0it [00:00, ?it/s]"
      ]
     },
     "metadata": {},
     "output_type": "display_data"
    },
    {
     "data": {
      "application/vnd.jupyter.widget-view+json": {
       "model_id": "",
       "version_major": 2,
       "version_minor": 0
      },
      "text/plain": [
       "Validation: 0it [00:00, ?it/s]"
      ]
     },
     "metadata": {},
     "output_type": "display_data"
    },
    {
     "data": {
      "application/vnd.jupyter.widget-view+json": {
       "model_id": "",
       "version_major": 2,
       "version_minor": 0
      },
      "text/plain": [
       "Validation: 0it [00:00, ?it/s]"
      ]
     },
     "metadata": {},
     "output_type": "display_data"
    },
    {
     "data": {
      "application/vnd.jupyter.widget-view+json": {
       "model_id": "",
       "version_major": 2,
       "version_minor": 0
      },
      "text/plain": [
       "Validation: 0it [00:00, ?it/s]"
      ]
     },
     "metadata": {},
     "output_type": "display_data"
    },
    {
     "data": {
      "application/vnd.jupyter.widget-view+json": {
       "model_id": "",
       "version_major": 2,
       "version_minor": 0
      },
      "text/plain": [
       "Validation: 0it [00:00, ?it/s]"
      ]
     },
     "metadata": {},
     "output_type": "display_data"
    },
    {
     "data": {
      "application/vnd.jupyter.widget-view+json": {
       "model_id": "",
       "version_major": 2,
       "version_minor": 0
      },
      "text/plain": [
       "Validation: 0it [00:00, ?it/s]"
      ]
     },
     "metadata": {},
     "output_type": "display_data"
    },
    {
     "data": {
      "application/vnd.jupyter.widget-view+json": {
       "model_id": "",
       "version_major": 2,
       "version_minor": 0
      },
      "text/plain": [
       "Validation: 0it [00:00, ?it/s]"
      ]
     },
     "metadata": {},
     "output_type": "display_data"
    },
    {
     "data": {
      "application/vnd.jupyter.widget-view+json": {
       "model_id": "",
       "version_major": 2,
       "version_minor": 0
      },
      "text/plain": [
       "Validation: 0it [00:00, ?it/s]"
      ]
     },
     "metadata": {},
     "output_type": "display_data"
    },
    {
     "data": {
      "application/vnd.jupyter.widget-view+json": {
       "model_id": "",
       "version_major": 2,
       "version_minor": 0
      },
      "text/plain": [
       "Validation: 0it [00:00, ?it/s]"
      ]
     },
     "metadata": {},
     "output_type": "display_data"
    },
    {
     "data": {
      "application/vnd.jupyter.widget-view+json": {
       "model_id": "",
       "version_major": 2,
       "version_minor": 0
      },
      "text/plain": [
       "Validation: 0it [00:00, ?it/s]"
      ]
     },
     "metadata": {},
     "output_type": "display_data"
    },
    {
     "data": {
      "application/vnd.jupyter.widget-view+json": {
       "model_id": "",
       "version_major": 2,
       "version_minor": 0
      },
      "text/plain": [
       "Validation: 0it [00:00, ?it/s]"
      ]
     },
     "metadata": {},
     "output_type": "display_data"
    },
    {
     "data": {
      "application/vnd.jupyter.widget-view+json": {
       "model_id": "",
       "version_major": 2,
       "version_minor": 0
      },
      "text/plain": [
       "Validation: 0it [00:00, ?it/s]"
      ]
     },
     "metadata": {},
     "output_type": "display_data"
    },
    {
     "data": {
      "application/vnd.jupyter.widget-view+json": {
       "model_id": "",
       "version_major": 2,
       "version_minor": 0
      },
      "text/plain": [
       "Validation: 0it [00:00, ?it/s]"
      ]
     },
     "metadata": {},
     "output_type": "display_data"
    },
    {
     "data": {
      "application/vnd.jupyter.widget-view+json": {
       "model_id": "",
       "version_major": 2,
       "version_minor": 0
      },
      "text/plain": [
       "Validation: 0it [00:00, ?it/s]"
      ]
     },
     "metadata": {},
     "output_type": "display_data"
    },
    {
     "data": {
      "application/vnd.jupyter.widget-view+json": {
       "model_id": "",
       "version_major": 2,
       "version_minor": 0
      },
      "text/plain": [
       "Validation: 0it [00:00, ?it/s]"
      ]
     },
     "metadata": {},
     "output_type": "display_data"
    },
    {
     "data": {
      "application/vnd.jupyter.widget-view+json": {
       "model_id": "",
       "version_major": 2,
       "version_minor": 0
      },
      "text/plain": [
       "Validation: 0it [00:00, ?it/s]"
      ]
     },
     "metadata": {},
     "output_type": "display_data"
    },
    {
     "data": {
      "application/vnd.jupyter.widget-view+json": {
       "model_id": "",
       "version_major": 2,
       "version_minor": 0
      },
      "text/plain": [
       "Validation: 0it [00:00, ?it/s]"
      ]
     },
     "metadata": {},
     "output_type": "display_data"
    },
    {
     "data": {
      "application/vnd.jupyter.widget-view+json": {
       "model_id": "",
       "version_major": 2,
       "version_minor": 0
      },
      "text/plain": [
       "Validation: 0it [00:00, ?it/s]"
      ]
     },
     "metadata": {},
     "output_type": "display_data"
    },
    {
     "data": {
      "application/vnd.jupyter.widget-view+json": {
       "model_id": "",
       "version_major": 2,
       "version_minor": 0
      },
      "text/plain": [
       "Validation: 0it [00:00, ?it/s]"
      ]
     },
     "metadata": {},
     "output_type": "display_data"
    },
    {
     "data": {
      "application/vnd.jupyter.widget-view+json": {
       "model_id": "",
       "version_major": 2,
       "version_minor": 0
      },
      "text/plain": [
       "Validation: 0it [00:00, ?it/s]"
      ]
     },
     "metadata": {},
     "output_type": "display_data"
    },
    {
     "data": {
      "application/vnd.jupyter.widget-view+json": {
       "model_id": "",
       "version_major": 2,
       "version_minor": 0
      },
      "text/plain": [
       "Validation: 0it [00:00, ?it/s]"
      ]
     },
     "metadata": {},
     "output_type": "display_data"
    },
    {
     "data": {
      "application/vnd.jupyter.widget-view+json": {
       "model_id": "",
       "version_major": 2,
       "version_minor": 0
      },
      "text/plain": [
       "Validation: 0it [00:00, ?it/s]"
      ]
     },
     "metadata": {},
     "output_type": "display_data"
    },
    {
     "data": {
      "application/vnd.jupyter.widget-view+json": {
       "model_id": "",
       "version_major": 2,
       "version_minor": 0
      },
      "text/plain": [
       "Validation: 0it [00:00, ?it/s]"
      ]
     },
     "metadata": {},
     "output_type": "display_data"
    },
    {
     "data": {
      "application/vnd.jupyter.widget-view+json": {
       "model_id": "",
       "version_major": 2,
       "version_minor": 0
      },
      "text/plain": [
       "Validation: 0it [00:00, ?it/s]"
      ]
     },
     "metadata": {},
     "output_type": "display_data"
    },
    {
     "data": {
      "application/vnd.jupyter.widget-view+json": {
       "model_id": "",
       "version_major": 2,
       "version_minor": 0
      },
      "text/plain": [
       "Validation: 0it [00:00, ?it/s]"
      ]
     },
     "metadata": {},
     "output_type": "display_data"
    },
    {
     "data": {
      "application/vnd.jupyter.widget-view+json": {
       "model_id": "",
       "version_major": 2,
       "version_minor": 0
      },
      "text/plain": [
       "Validation: 0it [00:00, ?it/s]"
      ]
     },
     "metadata": {},
     "output_type": "display_data"
    },
    {
     "data": {
      "application/vnd.jupyter.widget-view+json": {
       "model_id": "",
       "version_major": 2,
       "version_minor": 0
      },
      "text/plain": [
       "Validation: 0it [00:00, ?it/s]"
      ]
     },
     "metadata": {},
     "output_type": "display_data"
    },
    {
     "data": {
      "application/vnd.jupyter.widget-view+json": {
       "model_id": "",
       "version_major": 2,
       "version_minor": 0
      },
      "text/plain": [
       "Validation: 0it [00:00, ?it/s]"
      ]
     },
     "metadata": {},
     "output_type": "display_data"
    }
   ],
   "source": [
    "from src.models.cnn_ae import CNNAE\n",
    "from src.data.data_module import SliderDataModule\n",
    "import pytorch_lightning as pl\n",
    "\n",
    "model = CNNAE(shape_preflatten=(64, 14, 3), z_dim=1024)\n",
    "dm = SliderDataModule(\n",
    "    data_dir=\"../data/raw\",\n",
    "    batch_size=128,\n",
    "    num_workers=8,\n",
    "    normalize=False,\n",
    "    maxlen=312,\n",
    "    use_cnn=True,\n",
    "    iter_over_cols=False\n",
    ")\n",
    "early_stopping = pl.callbacks.EarlyStopping('val/loss', patience=10)\n",
    "callbacks = [early_stopping]\n",
    "trainer = pl.Trainer(accelerator=\"gpu\", devices=1,\n",
    "                    callbacks=callbacks, max_epochs=200,\n",
    "                    log_every_n_steps=1)\n",
    "trainer.fit(model, datamodule=dm)"
   ]
  },
  {
   "cell_type": "code",
   "execution_count": 39,
   "id": "a79a0d5b-c9a5-48ba-a5da-d14aa1e90ccd",
   "metadata": {},
   "outputs": [
    {
     "data": {
      "text/plain": [
       "{'label': 'anomaly',\n",
       " 'machine_id': '00',\n",
       " 'audio_id': '00000010',\n",
       " 'path': '../data/raw/dev_data/dev_data/slider/test/anomaly_id_00_00000010.wav',\n",
       " 'input': tensor([[[  0.9236,   4.4635,   2.7000,  ..., -29.0349, -32.8163, -29.7290],\n",
       "          [ -1.9994,   0.6906,   1.3040,  ..., -27.3513, -28.9089, -30.8649],\n",
       "          [  1.3300,   4.6262,  -0.8224,  ..., -28.1779, -29.2592, -31.2723],\n",
       "          ...,\n",
       "          [  5.3901,   6.6415,   4.5505,  ..., -12.0379, -12.6734, -15.4756],\n",
       "          [ -0.8221,   2.8199,  -0.4025,  ..., -13.7797, -13.8975, -17.3029],\n",
       "          [ -3.2309,  -9.9509,  -2.3087,  ...,  -7.7907, -10.0060, -12.7440]]])}"
      ]
     },
     "execution_count": 39,
     "metadata": {},
     "output_type": "execute_result"
    }
   ],
   "source": [
    "import torch\n",
    "import torch.nn as nn\n",
    "import seaborn as sns\n",
    "import matplotlib.pyplot as plt\n",
    "\n",
    "from src.data.dataset import SliderDataset\n",
    "\n",
    "n_mels = 128\n",
    "frames = 5\n",
    "n_fft = 1024\n",
    "hop_length = 512\n",
    "power = 2.0\n",
    "\n",
    "ds = SliderDataset(\"../data/raw/dev_data/dev_data/slider/test/\",\n",
    "                n_mels=n_mels,\n",
    "                frames=frames,\n",
    "                n_fft=n_fft,\n",
    "                hop_length=hop_length,\n",
    "                power=power,\n",
    "                normalize=False,\n",
    "                maxlen=312,\n",
    "                use_cnn=True,\n",
    "                iter_over_cols=False\n",
    ")\n",
    "\n",
    "sample = ds[10]\n",
    "sample"
   ]
  },
  {
   "cell_type": "code",
   "execution_count": 40,
   "id": "e38ce579-fbd2-4a47-8aa8-6bc03cf495ae",
   "metadata": {},
   "outputs": [
    {
     "name": "stdout",
     "output_type": "stream",
     "text": [
      "tensor(30.3323)\n"
     ]
    },
    {
     "data": {
      "text/plain": [
       "<AxesSubplot:>"
      ]
     },
     "execution_count": 40,
     "metadata": {},
     "output_type": "execute_result"
    },
    {
     "data": {
      "image/png": "[encoded data removed]",
      "text/plain": [
       "<Figure size 1440x360 with 4 Axes>"
      ]
     },
     "metadata": {
      "needs_background": "light"
     },
     "output_type": "display_data"
    }
   ],
   "source": [
    "x_test = sample['input'].unsqueeze(0)\n",
    "with torch.no_grad():\n",
    "    x_recon = model(x_test)\n",
    "    x_test = x_test.squeeze()\n",
    "    x_recon = x_recon.squeeze()\n",
    "    print(nn.MSELoss()(x_test, x_recon))\n",
    "idx = 20\n",
    "fig, axs = plt.subplots(nrows=1, ncols=2, figsize=(20, 5))\n",
    "sns.heatmap(x_test.cpu().T, ax=axs[0])\n",
    "sns.heatmap(x_recon.cpu().T, ax=axs[1])"
   ]
  },
  {
   "cell_type": "code",
   "execution_count": 47,
   "id": "32dca288-d358-44bc-b7f0-d8cd33b265c2",
   "metadata": {},
   "outputs": [],
   "source": [
    "model = model.cuda()"
   ]
  },
  {
   "cell_type": "code",
   "execution_count": 79,
   "id": "5b9384cf-c0c6-4d1e-b489-d6708079fce7",
   "metadata": {},
   "outputs": [],
   "source": [
    "dm = SliderDataModule(\n",
    "    data_dir=\"../data/raw\",\n",
    "    batch_size=128,\n",
    "    num_workers=8,\n",
    "    normalize=False,\n",
    "    maxlen=312,\n",
    "    use_cnn=True,\n",
    "    iter_over_cols=False\n",
    ")\n",
    "test_loader = dm.test_dataloader()\n",
    "predict_loader = dm.predict_dataloader()"
   ]
  },
  {
   "cell_type": "code",
   "execution_count": 62,
   "id": "776d3f1a-95d5-4211-9112-7cee26e8001c",
   "metadata": {},
   "outputs": [
    {
     "name": "stderr",
     "output_type": "stream",
     "text": [
      "100%|██████████| 9/9 [00:03<00:00,  2.39it/s]\n"
     ]
    }
   ],
   "source": [
    "import numpy as np\n",
    "from tqdm import tqdm\n",
    "\n",
    "y_pred = []\n",
    "y_test = []\n",
    "mse = nn.MSELoss(reduction=\"none\")\n",
    "for batch in tqdm(test_loader):\n",
    "    x_test = batch['input'].cuda()\n",
    "    labels = np.array(batch['label'])\n",
    "    y_test.append(np.where(labels == \"anomaly\", 1, 0))\n",
    "    with torch.no_grad():\n",
    "        x_recon = model(x_test)\n",
    "        y_pred.append(mse(x_recon, x_test).mean(dim=(1,2,3)))"
   ]
  },
  {
   "cell_type": "code",
   "execution_count": 69,
   "id": "f9eef6cf-2197-4976-85f7-399cc1b9a9ea",
   "metadata": {},
   "outputs": [],
   "source": [
    "y_pred = torch.cat(y_pred).cpu().numpy()"
   ]
  },
  {
   "cell_type": "code",
   "execution_count": 74,
   "id": "d2200e5b-aac8-4e94-b344-4aa567007a3c",
   "metadata": {},
   "outputs": [],
   "source": [
    "y_test = np.concatenate(y_test)"
   ]
  },
  {
   "cell_type": "code",
   "execution_count": 75,
   "id": "5b16cf15-f0a0-40f3-8065-3081d59c98c6",
   "metadata": {},
   "outputs": [
    {
     "data": {
      "text/plain": [
       "0.6858313073570318"
      ]
     },
     "execution_count": 75,
     "metadata": {},
     "output_type": "execute_result"
    }
   ],
   "source": [
    "from sklearn.metrics import roc_auc_score\n",
    "roc_auc_score(y_test, y_pred, max_fpr=0.1)"
   ]
  },
  {
   "cell_type": "code",
   "execution_count": 85,
   "id": "4919841a-f3a4-4ea0-99d8-da66d43b9045",
   "metadata": {},
   "outputs": [
    {
     "name": "stderr",
     "output_type": "stream",
     "text": [
      "100%|██████████| 7/7 [00:04<00:00,  1.52it/s]\n"
     ]
    }
   ],
   "source": [
    "import os\n",
    "\n",
    "y_pred = []\n",
    "y_test = []\n",
    "fnames = []\n",
    "mse = nn.MSELoss(reduction=\"none\")\n",
    "for batch in tqdm(predict_loader):\n",
    "    x_test = batch['input'].cuda()\n",
    "    labels = np.array(batch['label'])\n",
    "    y_test.append(np.where(labels == \"anomaly\", 1, 0))\n",
    "    fnames.extend([os.path.basename(n) for n in batch[\"path\"]])\n",
    "    with torch.no_grad():\n",
    "        x_recon = model(x_test)\n",
    "        y_pred.append(mse(x_recon, x_test).mean(dim=(1,2,3)))\n",
    "y_pred = torch.cat(y_pred).cpu().numpy()"
   ]
  },
  {
   "cell_type": "code",
   "execution_count": 86,
   "id": "7e960632-5308-4c59-8919-5ac4485efcd4",
   "metadata": {},
   "outputs": [
    {
     "data": {
      "text/html": [
       "<div>\n",
       "<style scoped>\n",
       "    .dataframe tbody tr th:only-of-type {\n",
       "        vertical-align: middle;\n",
       "    }\n",
       "\n",
       "    .dataframe tbody tr th {\n",
       "        vertical-align: top;\n",
       "    }\n",
       "\n",
       "    .dataframe thead th {\n",
       "        text-align: right;\n",
       "    }\n",
       "</style>\n",
       "<table border=\"1\" class=\"dataframe\">\n",
       "  <thead>\n",
       "    <tr style=\"text-align: right;\">\n",
       "      <th></th>\n",
       "      <th>file_name</th>\n",
       "      <th>anomaly_score</th>\n",
       "    </tr>\n",
       "  </thead>\n",
       "  <tbody>\n",
       "    <tr>\n",
       "      <th>0</th>\n",
       "      <td>id_01_00000000.wav</td>\n",
       "      <td>23.180538</td>\n",
       "    </tr>\n",
       "    <tr>\n",
       "      <th>1</th>\n",
       "      <td>id_01_00000001.wav</td>\n",
       "      <td>17.933529</td>\n",
       "    </tr>\n",
       "    <tr>\n",
       "      <th>2</th>\n",
       "      <td>id_01_00000002.wav</td>\n",
       "      <td>24.778660</td>\n",
       "    </tr>\n",
       "    <tr>\n",
       "      <th>3</th>\n",
       "      <td>id_01_00000003.wav</td>\n",
       "      <td>17.820473</td>\n",
       "    </tr>\n",
       "    <tr>\n",
       "      <th>4</th>\n",
       "      <td>id_01_00000004.wav</td>\n",
       "      <td>23.825981</td>\n",
       "    </tr>\n",
       "    <tr>\n",
       "      <th>...</th>\n",
       "      <td>...</td>\n",
       "      <td>...</td>\n",
       "    </tr>\n",
       "    <tr>\n",
       "      <th>829</th>\n",
       "      <td>id_05_00000273.wav</td>\n",
       "      <td>19.333549</td>\n",
       "    </tr>\n",
       "    <tr>\n",
       "      <th>830</th>\n",
       "      <td>id_05_00000274.wav</td>\n",
       "      <td>20.546436</td>\n",
       "    </tr>\n",
       "    <tr>\n",
       "      <th>831</th>\n",
       "      <td>id_05_00000275.wav</td>\n",
       "      <td>19.724346</td>\n",
       "    </tr>\n",
       "    <tr>\n",
       "      <th>832</th>\n",
       "      <td>id_05_00000276.wav</td>\n",
       "      <td>19.242035</td>\n",
       "    </tr>\n",
       "    <tr>\n",
       "      <th>833</th>\n",
       "      <td>id_05_00000277.wav</td>\n",
       "      <td>20.174191</td>\n",
       "    </tr>\n",
       "  </tbody>\n",
       "</table>\n",
       "<p>834 rows × 2 columns</p>\n",
       "</div>"
      ],
      "text/plain": [
       "              file_name  anomaly_score\n",
       "0    id_01_00000000.wav      23.180538\n",
       "1    id_01_00000001.wav      17.933529\n",
       "2    id_01_00000002.wav      24.778660\n",
       "3    id_01_00000003.wav      17.820473\n",
       "4    id_01_00000004.wav      23.825981\n",
       "..                  ...            ...\n",
       "829  id_05_00000273.wav      19.333549\n",
       "830  id_05_00000274.wav      20.546436\n",
       "831  id_05_00000275.wav      19.724346\n",
       "832  id_05_00000276.wav      19.242035\n",
       "833  id_05_00000277.wav      20.174191\n",
       "\n",
       "[834 rows x 2 columns]"
      ]
     },
     "execution_count": 86,
     "metadata": {},
     "output_type": "execute_result"
    }
   ],
   "source": [
    "import pandas as pd\n",
    "\n",
    "df = pd.DataFrame({\"file_name\": fnames, \"anomaly_score\": y_pred})\n",
    "df"
   ]
  },
  {
   "cell_type": "code",
   "execution_count": 87,
   "id": "3463096c-9a3c-4151-8f28-65f1e0e4a438",
   "metadata": {},
   "outputs": [],
   "source": [
    "df.to_csv(\"submission.csv\", index=False)"
   ]
  },
  {
   "cell_type": "code",
   "execution_count": 91,
   "id": "fc045306-2bab-449c-aeb7-48075832080b",
   "metadata": {},
   "outputs": [],
   "source": [
    "!mkdir -p ~/.kaggle\n",
    "!echo '{\"username\":\"minhduc0711\",\"key\":\"98f75e2eccf6861a19dd0459c34910d9\"}' >> ~/.kaggle/kaggle.json"
   ]
  },
  {
   "cell_type": "code",
   "execution_count": 92,
   "id": "993b1494-39a9-42e3-b9f5-28683efe87f0",
   "metadata": {},
   "outputs": [
    {
     "name": "stdout",
     "output_type": "stream",
     "text": [
      "Warning: Your Kaggle API key is readable by other users on this system! To fix this, you can run 'chmod 600 /root/.kaggle/kaggle.json'\n",
      "100%|██████████████████████████████████████| 23.5k/23.5k [00:00<00:00, 47.2kB/s]\n",
      "Successfully submitted to EURECOM AML 2022:: Challenge 2"
     ]
    }
   ],
   "source": [
    "!kaggle competitions submit -c eurecom-aml-2022-challenge-2 -f submission.csv -m \"cnn-based autoencoder\""
   ]
  }
 ],
 "metadata": {
  "kernelspec": {
   "display_name": "Python 3 (ipykernel)",
   "language": "python",
   "name": "python3"
  },
  "language_info": {
   "codemirror_mode": {
    "name": "ipython",
    "version": 3
   },
   "file_extension": ".py",
   "mimetype": "text/x-python",
   "name": "python",
   "nbconvert_exporter": "python",
   "pygments_lexer": "ipython3",
   "version": "3.8.12"
  }
 },
 "nbformat": 4,
 "nbformat_minor": 5
}
